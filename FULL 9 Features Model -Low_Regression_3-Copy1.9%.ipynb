{
 "cells": [
  {
   "cell_type": "code",
   "execution_count": 1,
   "metadata": {},
   "outputs": [],
   "source": [
    "from sklearn.datasets import load_boston\n",
    "from sklearn.linear_model import ElasticNet,ElasticNetCV\n",
    "from sklearn.metrics import mean_squared_error\n",
    "from sklearn.model_selection import train_test_split\n",
    "import matplotlib.pyplot as plt\n",
    "import numpy as np\n",
    "import pandas as pd"
   ]
  },
  {
   "cell_type": "code",
   "execution_count": 2,
   "metadata": {},
   "outputs": [],
   "source": [
    "train = pd.read_csv('Trainset_Low.csv')"
   ]
  },
  {
   "cell_type": "code",
   "execution_count": 3,
   "metadata": {},
   "outputs": [
    {
     "data": {
      "text/plain": [
       "Index(['Unnamed: 0', 'Unnamed: 0.1', 'intergration', 'Life Cy', 'var 100_10',\n",
       "       'min', 'kurtosis', 'skewness', 'intergration.1', 'charge tym', 'Slope',\n",
       "       'Intercept', 'Q_d', 'IR_diff', 'IR_min', 'Dis_max', 'log10_Var100-10'],\n",
       "      dtype='object')"
      ]
     },
     "execution_count": 3,
     "metadata": {},
     "output_type": "execute_result"
    }
   ],
   "source": [
    "train.columns"
   ]
  },
  {
   "cell_type": "code",
   "execution_count": 4,
   "metadata": {},
   "outputs": [
    {
     "data": {
      "text/html": [
       "<div>\n",
       "<style scoped>\n",
       "    .dataframe tbody tr th:only-of-type {\n",
       "        vertical-align: middle;\n",
       "    }\n",
       "\n",
       "    .dataframe tbody tr th {\n",
       "        vertical-align: top;\n",
       "    }\n",
       "\n",
       "    .dataframe thead th {\n",
       "        text-align: right;\n",
       "    }\n",
       "</style>\n",
       "<table border=\"1\" class=\"dataframe\">\n",
       "  <thead>\n",
       "    <tr style=\"text-align: right;\">\n",
       "      <th></th>\n",
       "      <th>Unnamed: 0</th>\n",
       "      <th>Unnamed: 0.1</th>\n",
       "      <th>intergration</th>\n",
       "      <th>Life Cy</th>\n",
       "      <th>var 100_10</th>\n",
       "      <th>min</th>\n",
       "      <th>kurtosis</th>\n",
       "      <th>skewness</th>\n",
       "      <th>intergration.1</th>\n",
       "      <th>charge tym</th>\n",
       "      <th>Slope</th>\n",
       "      <th>Intercept</th>\n",
       "      <th>Q_d</th>\n",
       "      <th>IR_diff</th>\n",
       "      <th>IR_min</th>\n",
       "      <th>Dis_max</th>\n",
       "      <th>log10_Var100-10</th>\n",
       "    </tr>\n",
       "  </thead>\n",
       "  <tbody>\n",
       "    <tr>\n",
       "      <th>0</th>\n",
       "      <td>21</td>\n",
       "      <td>21</td>\n",
       "      <td>426168.6405</td>\n",
       "      <td>327</td>\n",
       "      <td>0.002237</td>\n",
       "      <td>-0.135460</td>\n",
       "      <td>-1.427498</td>\n",
       "      <td>0.176553</td>\n",
       "      <td>1.142758e+06</td>\n",
       "      <td>2400.06972</td>\n",
       "      <td>-0.000355</td>\n",
       "      <td>1.078839</td>\n",
       "      <td>-0.031602</td>\n",
       "      <td>-0.000094</td>\n",
       "      <td>0.016424</td>\n",
       "      <td>1.070054</td>\n",
       "      <td>-2.650428</td>\n",
       "    </tr>\n",
       "    <tr>\n",
       "      <th>1</th>\n",
       "      <td>22</td>\n",
       "      <td>22</td>\n",
       "      <td>465656.0434</td>\n",
       "      <td>465</td>\n",
       "      <td>0.000382</td>\n",
       "      <td>-0.057989</td>\n",
       "      <td>-1.338316</td>\n",
       "      <td>-0.271181</td>\n",
       "      <td>4.366715e+05</td>\n",
       "      <td>2400.07346</td>\n",
       "      <td>-0.000013</td>\n",
       "      <td>1.078680</td>\n",
       "      <td>0.002459</td>\n",
       "      <td>-0.000241</td>\n",
       "      <td>0.017209</td>\n",
       "      <td>1.073539</td>\n",
       "      <td>-3.417800</td>\n",
       "    </tr>\n",
       "    <tr>\n",
       "      <th>2</th>\n",
       "      <td>23</td>\n",
       "      <td>23</td>\n",
       "      <td>471337.6104</td>\n",
       "      <td>472</td>\n",
       "      <td>0.000556</td>\n",
       "      <td>-0.063886</td>\n",
       "      <td>-1.573950</td>\n",
       "      <td>-0.076755</td>\n",
       "      <td>1.274635e+06</td>\n",
       "      <td>2400.07508</td>\n",
       "      <td>-0.000107</td>\n",
       "      <td>1.077331</td>\n",
       "      <td>-0.007806</td>\n",
       "      <td>-0.000898</td>\n",
       "      <td>0.015998</td>\n",
       "      <td>1.072897</td>\n",
       "      <td>-3.254918</td>\n",
       "    </tr>\n",
       "    <tr>\n",
       "      <th>3</th>\n",
       "      <td>24</td>\n",
       "      <td>24</td>\n",
       "      <td>468558.1546</td>\n",
       "      <td>546</td>\n",
       "      <td>0.000680</td>\n",
       "      <td>-0.072603</td>\n",
       "      <td>-1.512046</td>\n",
       "      <td>0.177627</td>\n",
       "      <td>6.203266e+05</td>\n",
       "      <td>2400.07388</td>\n",
       "      <td>-0.000214</td>\n",
       "      <td>1.075658</td>\n",
       "      <td>-0.016540</td>\n",
       "      <td>-0.001076</td>\n",
       "      <td>0.015649</td>\n",
       "      <td>1.068739</td>\n",
       "      <td>-3.167724</td>\n",
       "    </tr>\n",
       "    <tr>\n",
       "      <th>4</th>\n",
       "      <td>25</td>\n",
       "      <td>25</td>\n",
       "      <td>476667.1345</td>\n",
       "      <td>506</td>\n",
       "      <td>0.000384</td>\n",
       "      <td>-0.060496</td>\n",
       "      <td>-1.459532</td>\n",
       "      <td>-0.115822</td>\n",
       "      <td>1.193452e+06</td>\n",
       "      <td>2160.04416</td>\n",
       "      <td>-0.000041</td>\n",
       "      <td>1.076325</td>\n",
       "      <td>-0.001186</td>\n",
       "      <td>-0.000572</td>\n",
       "      <td>0.017036</td>\n",
       "      <td>1.071705</td>\n",
       "      <td>-3.415353</td>\n",
       "    </tr>\n",
       "  </tbody>\n",
       "</table>\n",
       "</div>"
      ],
      "text/plain": [
       "   Unnamed: 0  Unnamed: 0.1  intergration  Life Cy  var 100_10       min  \\\n",
       "0          21            21   426168.6405      327    0.002237 -0.135460   \n",
       "1          22            22   465656.0434      465    0.000382 -0.057989   \n",
       "2          23            23   471337.6104      472    0.000556 -0.063886   \n",
       "3          24            24   468558.1546      546    0.000680 -0.072603   \n",
       "4          25            25   476667.1345      506    0.000384 -0.060496   \n",
       "\n",
       "   kurtosis  skewness  intergration.1  charge tym     Slope  Intercept  \\\n",
       "0 -1.427498  0.176553    1.142758e+06  2400.06972 -0.000355   1.078839   \n",
       "1 -1.338316 -0.271181    4.366715e+05  2400.07346 -0.000013   1.078680   \n",
       "2 -1.573950 -0.076755    1.274635e+06  2400.07508 -0.000107   1.077331   \n",
       "3 -1.512046  0.177627    6.203266e+05  2400.07388 -0.000214   1.075658   \n",
       "4 -1.459532 -0.115822    1.193452e+06  2160.04416 -0.000041   1.076325   \n",
       "\n",
       "        Q_d   IR_diff    IR_min   Dis_max  log10_Var100-10  \n",
       "0 -0.031602 -0.000094  0.016424  1.070054        -2.650428  \n",
       "1  0.002459 -0.000241  0.017209  1.073539        -3.417800  \n",
       "2 -0.007806 -0.000898  0.015998  1.072897        -3.254918  \n",
       "3 -0.016540 -0.001076  0.015649  1.068739        -3.167724  \n",
       "4 -0.001186 -0.000572  0.017036  1.071705        -3.415353  "
      ]
     },
     "execution_count": 4,
     "metadata": {},
     "output_type": "execute_result"
    }
   ],
   "source": [
    "train.head()"
   ]
  },
  {
   "cell_type": "code",
   "execution_count": 5,
   "metadata": {},
   "outputs": [],
   "source": [
    "x = train[['min','log10_Var100-10','Dis_max','Slope', 'Intercept','intergration.1','charge tym','IR_min','IR_diff']]\n",
    "y = train['Life Cy']\n",
    "xtrain, xtest, ytrain, ytest = train_test_split(x, y, test_size=0.1 ,random_state=1 )"
   ]
  },
  {
   "cell_type": "code",
   "execution_count": 6,
   "metadata": {},
   "outputs": [
    {
     "name": "stderr",
     "output_type": "stream",
     "text": [
      "C:\\ProgramData\\Anaconda3\\lib\\site-packages\\sklearn\\linear_model\\_coordinate_descent.py:531: ConvergenceWarning: Objective did not converge. You might want to increase the number of iterations. Duality gap: 15063.037781092156, tolerance: 3.8402444444444446\n",
      "  positive)\n",
      "C:\\ProgramData\\Anaconda3\\lib\\site-packages\\sklearn\\linear_model\\_coordinate_descent.py:531: ConvergenceWarning: Objective did not converge. You might want to increase the number of iterations. Duality gap: nan, tolerance: 3.8402444444444446\n",
      "  positive)\n",
      "C:\\ProgramData\\Anaconda3\\lib\\site-packages\\ipykernel_launcher.py:4: UserWarning: With alpha=0, this algorithm does not converge well. You are advised to use the LinearRegression estimator\n",
      "  after removing the cwd from sys.path.\n",
      "C:\\ProgramData\\Anaconda3\\lib\\site-packages\\sklearn\\linear_model\\_coordinate_descent.py:531: UserWarning: Coordinate descent with no regularization may lead to unexpected results and is discouraged.\n",
      "  positive)\n",
      "C:\\ProgramData\\Anaconda3\\lib\\site-packages\\sklearn\\linear_model\\_coordinate_descent.py:531: ConvergenceWarning: Objective did not converge. You might want to increase the number of iterations. Duality gap: 3155.0121314572752, tolerance: 3.8402444444444446\n",
      "  positive)\n"
     ]
    },
    {
     "name": "stdout",
     "output_type": "stream",
     "text": [
      "Alpha:-0.0100, R2:-4.58, MSE:5893.92, RMSE:76.77\n",
      "Alpha:-0.0010, R2:-0.46, MSE:1537.81, RMSE:39.21\n",
      "Alpha:0.0000, R2:-1.20, MSE:2319.91, RMSE:48.17\n",
      "Alpha:0.0001, R2:-4.09, MSE:5371.65, RMSE:73.29\n",
      "Alpha:0.0010, R2:-4.21, MSE:5504.70, RMSE:74.19\n",
      "Alpha:0.0100, R2:-4.01, MSE:5293.67, RMSE:72.76\n",
      "Alpha:0.1000, R2:-3.07, MSE:4293.80, RMSE:65.53\n",
      "Alpha:0.3000, R2:-2.59, MSE:3792.42, RMSE:61.58\n",
      "Alpha:0.5000, R2:-2.45, MSE:3640.80, RMSE:60.34\n",
      "Alpha:0.7000, R2:-2.38, MSE:3567.64, RMSE:59.73\n",
      "Alpha:1.0000, R2:-2.32, MSE:3509.05, RMSE:59.24\n",
      "Alpha:1.1000, R2:-2.31, MSE:3496.18, RMSE:59.13\n",
      "Alpha:1.4000, R2:-2.28, MSE:3468.06, RMSE:58.89\n",
      "Alpha:1.6000, R2:-2.27, MSE:3454.95, RMSE:58.78\n",
      "Alpha:1.8000, R2:-2.26, MSE:3444.64, RMSE:58.69\n",
      "Alpha:2.0000, R2:-2.25, MSE:3436.32, RMSE:58.62\n",
      "Alpha:3.0000, R2:-2.23, MSE:3410.95, RMSE:58.40\n",
      "Alpha:4.0000, R2:-2.22, MSE:3398.02, RMSE:58.29\n",
      "Alpha:5.0000, R2:-2.21, MSE:3390.17, RMSE:58.23\n",
      "Alpha:7.0000, R2:-2.20, MSE:3381.10, RMSE:58.15\n",
      "Alpha:8.0000, R2:-2.20, MSE:3378.23, RMSE:58.12\n",
      "Alpha:10.0000, R2:-2.19, MSE:3374.17, RMSE:58.09\n"
     ]
    }
   ],
   "source": [
    "alphas = [-0.01 ,-0.001 , 0.0000 , 0.0001, 0.001, 0.01, 0.1, 0.3, 0.5, 0.7, 1 , 1.1 , 1.4 , 1.6 , 1.8 , 2 , 3 ,4, 5 , 7, 8, 10]\n",
    "\n",
    "for a in alphas:\n",
    "    model = ElasticNet(alpha=a).fit(xtrain,ytrain)   \n",
    "    score = model.score(xtest, ytest)\n",
    "    pred_y = model.predict(xtest)\n",
    "    mse = mean_squared_error(ytest, pred_y)   \n",
    "    print(\"Alpha:{0:.4f}, R2:{1:.2f}, MSE:{2:.2f}, RMSE:{3:.2f}\".format(a, score, mse, np.sqrt(mse)))\n",
    "\n",
    "\n",
    "\n",
    "\n"
   ]
  },
  {
   "cell_type": "markdown",
   "metadata": {},
   "source": [
    "#### that if your regression line is not better than using the mean,\n",
    "# then you will just use the mean value.\n",
    "# However if your regression line is worse than using the mean value,\n",
    "# the r squared value that you calculate will be negative."
   ]
  },
  {
   "cell_type": "code",
   "execution_count": 7,
   "metadata": {},
   "outputs": [
    {
     "name": "stderr",
     "output_type": "stream",
     "text": [
      "C:\\ProgramData\\Anaconda3\\lib\\site-packages\\sklearn\\linear_model\\_coordinate_descent.py:531: ConvergenceWarning: Objective did not converge. You might want to increase the number of iterations. Duality gap: 3668.2247875913217, tolerance: 3.8402444444444446\n",
      "  positive)\n"
     ]
    },
    {
     "name": "stdout",
     "output_type": "stream",
     "text": [
      "R2:-1.982, MSE:3149.53, RMSE:56.12\n",
      "9.872662483386678\n"
     ]
    },
    {
     "data": {
      "image/png": "[encoded data removed]",
      "text/plain": [
       "<Figure size 432x288 with 1 Axes>"
      ]
     },
     "metadata": {
      "needs_background": "light"
     },
     "output_type": "display_data"
    }
   ],
   "source": [
    "elastic=ElasticNet(alpha=0.0000000166666).fit(xtrain, ytrain)\n",
    "ypred = elastic.predict(xtest)\n",
    "#alpha=0.00000001\n",
    "score = elastic.score(xtest, ytest)\n",
    "mse = mean_squared_error(ytest, ypred)\n",
    "print(\"R2:{0:.3f}, MSE:{1:.2f}, RMSE:{2:.2f}\".format(score, mse, np.sqrt(mse)))\n",
    "\n",
    "\n",
    "def mean_absolute_percentage_error(yt, yp): \n",
    "    yt, yp = np.array(yt), np.array(yp)\n",
    "    return np.mean(np.abs((yt - yp) / yt)) * 100\n",
    "print(mean_absolute_percentage_error(ytest,ypred))\n",
    "\n",
    "\n",
    "\n",
    "x_ax = range(len(xtest))\n",
    "plt.scatter(x_ax, ytest, s=5, color=\"blue\", label=\"original\")\n",
    "plt.plot(x_ax, ypred, lw=0.8, color=\"red\", label=\"predicted\")\n",
    "plt.legend()\n",
    "plt.show()\n"
   ]
  },
  {
   "cell_type": "code",
   "execution_count": 8,
   "metadata": {},
   "outputs": [],
   "source": [
    "# model.sa('Ecv.h5')\n",
    "import pickle\n",
    "filename = 'Best_model.sav'\n",
    "pickle.dump(elastic, open(filename, 'wb'))"
   ]
  },
  {
   "cell_type": "code",
   "execution_count": null,
   "metadata": {},
   "outputs": [],
   "source": []
  },
  {
   "cell_type": "code",
   "execution_count": 300,
   "metadata": {},
   "outputs": [
    {
     "name": "stderr",
     "output_type": "stream",
     "text": [
      "C:\\ProgramData\\Anaconda3\\lib\\site-packages\\sklearn\\linear_model\\_coordinate_descent.py:527: UserWarning: Coordinate descent with alpha=0 may lead to unexpected results and is discouraged.\n",
      "  tol, rng, random, positive)\n",
      "C:\\ProgramData\\Anaconda3\\lib\\site-packages\\sklearn\\linear_model\\_coordinate_descent.py:527: ConvergenceWarning: Objective did not converge. You might want to increase the number of iterations. Duality gap: 281.38498431257176, tolerance: 3.67775\n",
      "  tol, rng, random, positive)\n",
      "C:\\ProgramData\\Anaconda3\\lib\\site-packages\\sklearn\\linear_model\\_coordinate_descent.py:527: ConvergenceWarning: Objective did not converge. You might want to increase the number of iterations. Duality gap: nan, tolerance: 3.67775\n",
      "  tol, rng, random, positive)\n",
      "C:\\ProgramData\\Anaconda3\\lib\\site-packages\\sklearn\\linear_model\\_coordinate_descent.py:527: ConvergenceWarning: Objective did not converge. You might want to increase the number of iterations. Duality gap: 10351.627873413707, tolerance: 3.67775\n",
      "  tol, rng, random, positive)\n",
      "C:\\ProgramData\\Anaconda3\\lib\\site-packages\\sklearn\\linear_model\\_coordinate_descent.py:527: UserWarning: Coordinate descent with alpha=0 may lead to unexpected results and is discouraged.\n",
      "  tol, rng, random, positive)\n",
      "C:\\ProgramData\\Anaconda3\\lib\\site-packages\\sklearn\\linear_model\\_coordinate_descent.py:527: ConvergenceWarning: Objective did not converge. You might want to increase the number of iterations. Duality gap: 348.1625214247615, tolerance: 3.5804857142857145\n",
      "  tol, rng, random, positive)\n",
      "C:\\ProgramData\\Anaconda3\\lib\\site-packages\\sklearn\\linear_model\\_coordinate_descent.py:527: ConvergenceWarning: Objective did not converge. You might want to increase the number of iterations. Duality gap: nan, tolerance: 3.5804857142857145\n",
      "  tol, rng, random, positive)\n",
      "C:\\ProgramData\\Anaconda3\\lib\\site-packages\\sklearn\\linear_model\\_coordinate_descent.py:527: ConvergenceWarning: Objective did not converge. You might want to increase the number of iterations. Duality gap: 12715.452831098595, tolerance: 3.5804857142857145\n",
      "  tol, rng, random, positive)\n",
      "C:\\ProgramData\\Anaconda3\\lib\\site-packages\\sklearn\\linear_model\\_coordinate_descent.py:527: UserWarning: Coordinate descent with alpha=0 may lead to unexpected results and is discouraged.\n",
      "  tol, rng, random, positive)\n",
      "C:\\ProgramData\\Anaconda3\\lib\\site-packages\\sklearn\\linear_model\\_coordinate_descent.py:527: ConvergenceWarning: Objective did not converge. You might want to increase the number of iterations. Duality gap: 811.2256056036231, tolerance: 0.7118928571428571\n",
      "  tol, rng, random, positive)\n",
      "C:\\ProgramData\\Anaconda3\\lib\\site-packages\\sklearn\\linear_model\\_coordinate_descent.py:527: ConvergenceWarning: Objective did not converge. You might want to increase the number of iterations. Duality gap: 10617.973430357924, tolerance: 0.7118928571428571\n",
      "  tol, rng, random, positive)\n",
      "C:\\ProgramData\\Anaconda3\\lib\\site-packages\\sklearn\\linear_model\\_coordinate_descent.py:527: ConvergenceWarning: Objective did not converge. You might want to increase the number of iterations. Duality gap: 10105.060223757302, tolerance: 0.7118928571428571\n",
      "  tol, rng, random, positive)\n",
      "C:\\ProgramData\\Anaconda3\\lib\\site-packages\\sklearn\\linear_model\\_coordinate_descent.py:527: UserWarning: Coordinate descent with alpha=0 may lead to unexpected results and is discouraged.\n",
      "  tol, rng, random, positive)\n",
      "C:\\ProgramData\\Anaconda3\\lib\\site-packages\\sklearn\\linear_model\\_coordinate_descent.py:527: ConvergenceWarning: Objective did not converge. You might want to increase the number of iterations. Duality gap: 3132.934080127012, tolerance: 3.729893333333333\n",
      "  tol, rng, random, positive)\n",
      "C:\\ProgramData\\Anaconda3\\lib\\site-packages\\sklearn\\linear_model\\_coordinate_descent.py:527: ConvergenceWarning: Objective did not converge. You might want to increase the number of iterations. Duality gap: nan, tolerance: 3.729893333333333\n",
      "  tol, rng, random, positive)\n",
      "C:\\ProgramData\\Anaconda3\\lib\\site-packages\\sklearn\\linear_model\\_coordinate_descent.py:527: ConvergenceWarning: Objective did not converge. You might want to increase the number of iterations. Duality gap: 15715.858005711068, tolerance: 3.729893333333333\n",
      "  tol, rng, random, positive)\n",
      "C:\\ProgramData\\Anaconda3\\lib\\site-packages\\sklearn\\linear_model\\_coordinate_descent.py:527: UserWarning: Coordinate descent with alpha=0 may lead to unexpected results and is discouraged.\n",
      "  tol, rng, random, positive)\n",
      "C:\\ProgramData\\Anaconda3\\lib\\site-packages\\sklearn\\linear_model\\_coordinate_descent.py:527: ConvergenceWarning: Objective did not converge. You might want to increase the number of iterations. Duality gap: 493.83127893650817, tolerance: 3.5205600000000006\n",
      "  tol, rng, random, positive)\n",
      "C:\\ProgramData\\Anaconda3\\lib\\site-packages\\sklearn\\linear_model\\_coordinate_descent.py:527: ConvergenceWarning: Objective did not converge. You might want to increase the number of iterations. Duality gap: nan, tolerance: 3.5205600000000006\n",
      "  tol, rng, random, positive)\n",
      "C:\\ProgramData\\Anaconda3\\lib\\site-packages\\sklearn\\linear_model\\_coordinate_descent.py:527: ConvergenceWarning: Objective did not converge. You might want to increase the number of iterations. Duality gap: 3524.1560143456013, tolerance: 3.5205600000000006\n",
      "  tol, rng, random, positive)\n",
      "C:\\ProgramData\\Anaconda3\\lib\\site-packages\\sklearn\\linear_model\\_coordinate_descent.py:531: ConvergenceWarning: Objective did not converge. You might want to increase the number of iterations. Duality gap: nan, tolerance: 3.8402444444444446\n",
      "  positive)\n"
     ]
    },
    {
     "name": "stdout",
     "output_type": "stream",
     "text": [
      "-0.001\n",
      "491.55555555555554\n",
      "R2:-0.456, MSE:1537.81, RMSE:39.21\n",
      "6.083006083006083\n"
     ]
    },
    {
     "data": {
      "image/png": "[encoded data removed]",
      "text/plain": [
       "<Figure size 432x288 with 1 Axes>"
      ]
     },
     "metadata": {
      "needs_background": "light"
     },
     "output_type": "display_data"
    }
   ],
   "source": [
    "# --- ElasticNetCV ----\n",
    "elastic_cv=ElasticNetCV(alphas=alphas, cv=5)\n",
    "model = elastic_cv.fit(xtrain, ytrain)\n",
    "print(model.alpha_)\n",
    "print(model.intercept_)\n",
    "\n",
    "\n",
    "\n",
    "ypred = model.predict(xtest)\n",
    "score = model.score(xtest, ytest)\n",
    "mse = mean_squared_error(ytest, ypred)\n",
    "print(\"R2:{0:.3f}, MSE:{1:.2f}, RMSE:{2:.2f}\".format(score, mse, np.sqrt(mse)))\n",
    "\n",
    "\n",
    "def mean_absolute_percentage_error(yt, yp): \n",
    "    yt, yp = np.array(yt), np.array(yp)\n",
    "    return np.mean(np.abs((yt - yp) / yt)) * 100\n",
    "print(mean_absolute_percentage_error(ytest,ypred))\n",
    "\n",
    "\n",
    "\n",
    "x_ax = range(len(xtest))\n",
    "plt.scatter(x_ax, ytest, s=5, color=\"blue\", label=\"original\")\n",
    "plt.plot(x_ax, ypred, lw=0.8, color=\"red\", label=\"predicted\")\n",
    "plt.legend()\n",
    "plt.show()"
   ]
  },
  {
   "cell_type": "code",
   "execution_count": 301,
   "metadata": {},
   "outputs": [],
   "source": [
    "# model.sa('Ecv.h5')\n",
    "import pickle\n",
    "filename2 = 'Best_model3%.sav'\n",
    "pickle.dump(elastic_cv, open(filename2, 'wb'))"
   ]
  },
  {
   "cell_type": "code",
   "execution_count": null,
   "metadata": {},
   "outputs": [],
   "source": []
  },
  {
   "cell_type": "code",
   "execution_count": null,
   "metadata": {},
   "outputs": [],
   "source": []
  },
  {
   "cell_type": "code",
   "execution_count": null,
   "metadata": {},
   "outputs": [],
   "source": []
  },
  {
   "cell_type": "markdown",
   "metadata": {},
   "source": [
    "# Primary Data set Testing"
   ]
  },
  {
   "cell_type": "code",
   "execution_count": 9,
   "metadata": {},
   "outputs": [],
   "source": [
    "loaded_model = pickle.load(open(filename, 'rb'))"
   ]
  },
  {
   "cell_type": "code",
   "execution_count": null,
   "metadata": {},
   "outputs": [],
   "source": []
  },
  {
   "cell_type": "code",
   "execution_count": 10,
   "metadata": {},
   "outputs": [],
   "source": [
    "primary = pd.read_csv('Primary_Low.csv')"
   ]
  },
  {
   "cell_type": "code",
   "execution_count": 11,
   "metadata": {},
   "outputs": [
    {
     "data": {
      "text/html": [
       "<div>\n",
       "<style scoped>\n",
       "    .dataframe tbody tr th:only-of-type {\n",
       "        vertical-align: middle;\n",
       "    }\n",
       "\n",
       "    .dataframe tbody tr th {\n",
       "        vertical-align: top;\n",
       "    }\n",
       "\n",
       "    .dataframe thead th {\n",
       "        text-align: right;\n",
       "    }\n",
       "</style>\n",
       "<table border=\"1\" class=\"dataframe\">\n",
       "  <thead>\n",
       "    <tr style=\"text-align: right;\">\n",
       "      <th></th>\n",
       "      <th>Unnamed: 0</th>\n",
       "      <th>Unnamed: 0.1</th>\n",
       "      <th>intergration</th>\n",
       "      <th>Life Cy</th>\n",
       "      <th>var 100_10</th>\n",
       "      <th>min</th>\n",
       "      <th>kurtosis</th>\n",
       "      <th>skewness</th>\n",
       "      <th>intergration.1</th>\n",
       "      <th>charge tym</th>\n",
       "      <th>Slope</th>\n",
       "      <th>Intercept</th>\n",
       "      <th>Q_d</th>\n",
       "      <th>IR_diff</th>\n",
       "      <th>IR_min</th>\n",
       "      <th>Dis_max</th>\n",
       "      <th>log10_Var100-10</th>\n",
       "    </tr>\n",
       "  </thead>\n",
       "  <tbody>\n",
       "    <tr>\n",
       "      <th>0</th>\n",
       "      <td>8</td>\n",
       "      <td>8</td>\n",
       "      <td>387723.6091</td>\n",
       "      <td>534</td>\n",
       "      <td>0.000468</td>\n",
       "      <td>-0.067288</td>\n",
       "      <td>-1.176148</td>\n",
       "      <td>0.145385</td>\n",
       "      <td>1.025094e+07</td>\n",
       "      <td>2400.66146</td>\n",
       "      <td>-0.000140</td>\n",
       "      <td>1.076970</td>\n",
       "      <td>-0.011382</td>\n",
       "      <td>-0.000593</td>\n",
       "      <td>0.000000</td>\n",
       "      <td>1.072630</td>\n",
       "      <td>-3.329739</td>\n",
       "    </tr>\n",
       "    <tr>\n",
       "      <th>1</th>\n",
       "      <td>20</td>\n",
       "      <td>20</td>\n",
       "      <td>456130.3760</td>\n",
       "      <td>171</td>\n",
       "      <td>0.002297</td>\n",
       "      <td>-0.139978</td>\n",
       "      <td>-1.127329</td>\n",
       "      <td>0.654169</td>\n",
       "      <td>2.090999e+05</td>\n",
       "      <td>2400.06946</td>\n",
       "      <td>-0.001092</td>\n",
       "      <td>1.084408</td>\n",
       "      <td>-0.103732</td>\n",
       "      <td>-0.000862</td>\n",
       "      <td>0.016267</td>\n",
       "      <td>1.072070</td>\n",
       "      <td>-2.638870</td>\n",
       "    </tr>\n",
       "    <tr>\n",
       "      <th>2</th>\n",
       "      <td>21</td>\n",
       "      <td>21</td>\n",
       "      <td>474667.3797</td>\n",
       "      <td>362</td>\n",
       "      <td>0.001470</td>\n",
       "      <td>-0.105606</td>\n",
       "      <td>-1.447131</td>\n",
       "      <td>0.206364</td>\n",
       "      <td>7.066990e+05</td>\n",
       "      <td>1836.75338</td>\n",
       "      <td>-0.000227</td>\n",
       "      <td>1.072521</td>\n",
       "      <td>-0.020117</td>\n",
       "      <td>-0.000496</td>\n",
       "      <td>0.015853</td>\n",
       "      <td>1.066851</td>\n",
       "      <td>-2.832779</td>\n",
       "    </tr>\n",
       "    <tr>\n",
       "      <th>3</th>\n",
       "      <td>22</td>\n",
       "      <td>22</td>\n",
       "      <td>461675.3659</td>\n",
       "      <td>508</td>\n",
       "      <td>0.000317</td>\n",
       "      <td>-0.050061</td>\n",
       "      <td>-1.528153</td>\n",
       "      <td>-0.113760</td>\n",
       "      <td>1.058258e+06</td>\n",
       "      <td>1199.92150</td>\n",
       "      <td>-0.000001</td>\n",
       "      <td>1.072032</td>\n",
       "      <td>0.002730</td>\n",
       "      <td>-0.000307</td>\n",
       "      <td>0.016727</td>\n",
       "      <td>1.068015</td>\n",
       "      <td>-3.498833</td>\n",
       "    </tr>\n",
       "    <tr>\n",
       "      <th>4</th>\n",
       "      <td>24</td>\n",
       "      <td>24</td>\n",
       "      <td>480233.8779</td>\n",
       "      <td>492</td>\n",
       "      <td>0.000567</td>\n",
       "      <td>-0.069141</td>\n",
       "      <td>-1.514916</td>\n",
       "      <td>0.069258</td>\n",
       "      <td>1.182201e+06</td>\n",
       "      <td>2409.43116</td>\n",
       "      <td>-0.000148</td>\n",
       "      <td>1.076502</td>\n",
       "      <td>-0.011245</td>\n",
       "      <td>-0.000998</td>\n",
       "      <td>0.016134</td>\n",
       "      <td>1.071276</td>\n",
       "      <td>-3.246341</td>\n",
       "    </tr>\n",
       "  </tbody>\n",
       "</table>\n",
       "</div>"
      ],
      "text/plain": [
       "   Unnamed: 0  Unnamed: 0.1  intergration  Life Cy  var 100_10       min  \\\n",
       "0           8             8   387723.6091      534    0.000468 -0.067288   \n",
       "1          20            20   456130.3760      171    0.002297 -0.139978   \n",
       "2          21            21   474667.3797      362    0.001470 -0.105606   \n",
       "3          22            22   461675.3659      508    0.000317 -0.050061   \n",
       "4          24            24   480233.8779      492    0.000567 -0.069141   \n",
       "\n",
       "   kurtosis  skewness  intergration.1  charge tym     Slope  Intercept  \\\n",
       "0 -1.176148  0.145385    1.025094e+07  2400.66146 -0.000140   1.076970   \n",
       "1 -1.127329  0.654169    2.090999e+05  2400.06946 -0.001092   1.084408   \n",
       "2 -1.447131  0.206364    7.066990e+05  1836.75338 -0.000227   1.072521   \n",
       "3 -1.528153 -0.113760    1.058258e+06  1199.92150 -0.000001   1.072032   \n",
       "4 -1.514916  0.069258    1.182201e+06  2409.43116 -0.000148   1.076502   \n",
       "\n",
       "        Q_d   IR_diff    IR_min   Dis_max  log10_Var100-10  \n",
       "0 -0.011382 -0.000593  0.000000  1.072630        -3.329739  \n",
       "1 -0.103732 -0.000862  0.016267  1.072070        -2.638870  \n",
       "2 -0.020117 -0.000496  0.015853  1.066851        -2.832779  \n",
       "3  0.002730 -0.000307  0.016727  1.068015        -3.498833  \n",
       "4 -0.011245 -0.000998  0.016134  1.071276        -3.246341  "
      ]
     },
     "execution_count": 11,
     "metadata": {},
     "output_type": "execute_result"
    }
   ],
   "source": [
    "primary.head()"
   ]
  },
  {
   "cell_type": "code",
   "execution_count": 12,
   "metadata": {},
   "outputs": [],
   "source": [
    "primary.drop(1 ,inplace=True)"
   ]
  },
  {
   "cell_type": "code",
   "execution_count": 13,
   "metadata": {},
   "outputs": [
    {
     "data": {
      "text/html": [
       "<div>\n",
       "<style scoped>\n",
       "    .dataframe tbody tr th:only-of-type {\n",
       "        vertical-align: middle;\n",
       "    }\n",
       "\n",
       "    .dataframe tbody tr th {\n",
       "        vertical-align: top;\n",
       "    }\n",
       "\n",
       "    .dataframe thead th {\n",
       "        text-align: right;\n",
       "    }\n",
       "</style>\n",
       "<table border=\"1\" class=\"dataframe\">\n",
       "  <thead>\n",
       "    <tr style=\"text-align: right;\">\n",
       "      <th></th>\n",
       "      <th>Unnamed: 0</th>\n",
       "      <th>Unnamed: 0.1</th>\n",
       "      <th>intergration</th>\n",
       "      <th>Life Cy</th>\n",
       "      <th>var 100_10</th>\n",
       "      <th>min</th>\n",
       "      <th>kurtosis</th>\n",
       "      <th>skewness</th>\n",
       "      <th>intergration.1</th>\n",
       "      <th>charge tym</th>\n",
       "      <th>Slope</th>\n",
       "      <th>Intercept</th>\n",
       "      <th>Q_d</th>\n",
       "      <th>IR_diff</th>\n",
       "      <th>IR_min</th>\n",
       "      <th>Dis_max</th>\n",
       "      <th>log10_Var100-10</th>\n",
       "    </tr>\n",
       "  </thead>\n",
       "  <tbody>\n",
       "    <tr>\n",
       "      <th>0</th>\n",
       "      <td>8</td>\n",
       "      <td>8</td>\n",
       "      <td>387723.6091</td>\n",
       "      <td>534</td>\n",
       "      <td>0.000468</td>\n",
       "      <td>-0.067288</td>\n",
       "      <td>-1.176148</td>\n",
       "      <td>0.145385</td>\n",
       "      <td>1.025094e+07</td>\n",
       "      <td>2400.66146</td>\n",
       "      <td>-0.000140</td>\n",
       "      <td>1.076970</td>\n",
       "      <td>-0.011382</td>\n",
       "      <td>-0.000593</td>\n",
       "      <td>0.000000</td>\n",
       "      <td>1.072630</td>\n",
       "      <td>-3.329739</td>\n",
       "    </tr>\n",
       "    <tr>\n",
       "      <th>2</th>\n",
       "      <td>21</td>\n",
       "      <td>21</td>\n",
       "      <td>474667.3797</td>\n",
       "      <td>362</td>\n",
       "      <td>0.001470</td>\n",
       "      <td>-0.105606</td>\n",
       "      <td>-1.447131</td>\n",
       "      <td>0.206364</td>\n",
       "      <td>7.066990e+05</td>\n",
       "      <td>1836.75338</td>\n",
       "      <td>-0.000227</td>\n",
       "      <td>1.072521</td>\n",
       "      <td>-0.020117</td>\n",
       "      <td>-0.000496</td>\n",
       "      <td>0.015853</td>\n",
       "      <td>1.066851</td>\n",
       "      <td>-2.832779</td>\n",
       "    </tr>\n",
       "    <tr>\n",
       "      <th>3</th>\n",
       "      <td>22</td>\n",
       "      <td>22</td>\n",
       "      <td>461675.3659</td>\n",
       "      <td>508</td>\n",
       "      <td>0.000317</td>\n",
       "      <td>-0.050061</td>\n",
       "      <td>-1.528153</td>\n",
       "      <td>-0.113760</td>\n",
       "      <td>1.058258e+06</td>\n",
       "      <td>1199.92150</td>\n",
       "      <td>-0.000001</td>\n",
       "      <td>1.072032</td>\n",
       "      <td>0.002730</td>\n",
       "      <td>-0.000307</td>\n",
       "      <td>0.016727</td>\n",
       "      <td>1.068015</td>\n",
       "      <td>-3.498833</td>\n",
       "    </tr>\n",
       "    <tr>\n",
       "      <th>4</th>\n",
       "      <td>24</td>\n",
       "      <td>24</td>\n",
       "      <td>480233.8779</td>\n",
       "      <td>492</td>\n",
       "      <td>0.000567</td>\n",
       "      <td>-0.069141</td>\n",
       "      <td>-1.514916</td>\n",
       "      <td>0.069258</td>\n",
       "      <td>1.182201e+06</td>\n",
       "      <td>2409.43116</td>\n",
       "      <td>-0.000148</td>\n",
       "      <td>1.076502</td>\n",
       "      <td>-0.011245</td>\n",
       "      <td>-0.000998</td>\n",
       "      <td>0.016134</td>\n",
       "      <td>1.071276</td>\n",
       "      <td>-3.246341</td>\n",
       "    </tr>\n",
       "    <tr>\n",
       "      <th>5</th>\n",
       "      <td>25</td>\n",
       "      <td>25</td>\n",
       "      <td>472072.0425</td>\n",
       "      <td>510</td>\n",
       "      <td>0.000401</td>\n",
       "      <td>-0.056279</td>\n",
       "      <td>-1.525651</td>\n",
       "      <td>-0.153880</td>\n",
       "      <td>2.056751e+06</td>\n",
       "      <td>2160.03704</td>\n",
       "      <td>-0.000004</td>\n",
       "      <td>1.082272</td>\n",
       "      <td>0.002879</td>\n",
       "      <td>-0.000193</td>\n",
       "      <td>0.016895</td>\n",
       "      <td>1.078068</td>\n",
       "      <td>-3.397207</td>\n",
       "    </tr>\n",
       "  </tbody>\n",
       "</table>\n",
       "</div>"
      ],
      "text/plain": [
       "   Unnamed: 0  Unnamed: 0.1  intergration  Life Cy  var 100_10       min  \\\n",
       "0           8             8   387723.6091      534    0.000468 -0.067288   \n",
       "2          21            21   474667.3797      362    0.001470 -0.105606   \n",
       "3          22            22   461675.3659      508    0.000317 -0.050061   \n",
       "4          24            24   480233.8779      492    0.000567 -0.069141   \n",
       "5          25            25   472072.0425      510    0.000401 -0.056279   \n",
       "\n",
       "   kurtosis  skewness  intergration.1  charge tym     Slope  Intercept  \\\n",
       "0 -1.176148  0.145385    1.025094e+07  2400.66146 -0.000140   1.076970   \n",
       "2 -1.447131  0.206364    7.066990e+05  1836.75338 -0.000227   1.072521   \n",
       "3 -1.528153 -0.113760    1.058258e+06  1199.92150 -0.000001   1.072032   \n",
       "4 -1.514916  0.069258    1.182201e+06  2409.43116 -0.000148   1.076502   \n",
       "5 -1.525651 -0.153880    2.056751e+06  2160.03704 -0.000004   1.082272   \n",
       "\n",
       "        Q_d   IR_diff    IR_min   Dis_max  log10_Var100-10  \n",
       "0 -0.011382 -0.000593  0.000000  1.072630        -3.329739  \n",
       "2 -0.020117 -0.000496  0.015853  1.066851        -2.832779  \n",
       "3  0.002730 -0.000307  0.016727  1.068015        -3.498833  \n",
       "4 -0.011245 -0.000998  0.016134  1.071276        -3.246341  \n",
       "5  0.002879 -0.000193  0.016895  1.078068        -3.397207  "
      ]
     },
     "execution_count": 13,
     "metadata": {},
     "output_type": "execute_result"
    }
   ],
   "source": [
    "primary.head()"
   ]
  },
  {
   "cell_type": "code",
   "execution_count": 14,
   "metadata": {},
   "outputs": [],
   "source": [
    "loaded_model = pickle.load(open(filename, 'rb'))"
   ]
  },
  {
   "cell_type": "code",
   "execution_count": 15,
   "metadata": {},
   "outputs": [],
   "source": [
    "x = primary[['min','log10_Var100-10','Dis_max','Slope', 'Intercept','intergration.1','charge tym','IR_min','IR_diff']]\n",
    "y = primary['Life Cy']"
   ]
  },
  {
   "cell_type": "code",
   "execution_count": 16,
   "metadata": {},
   "outputs": [
    {
     "name": "stdout",
     "output_type": "stream",
     "text": [
      "R2:0.580, MSE:718.41, RMSE:26.80\n",
      "   y_test        Pred\n",
      "0     534  542.211134\n",
      "2     362  360.866449\n",
      "3     508  493.535637\n",
      "4     492  501.626095\n",
      "5     510  514.134196\n",
      "\n",
      " \n",
      "           y_test        Pred\n",
      "count   19.000000   19.000000\n",
      "mean   504.789474  498.874400\n",
      "std     42.514807   41.366680\n",
      "min    362.000000  360.866449\n",
      "25%    492.500000  485.378497\n",
      "50%    510.000000  509.517512\n",
      "75%    531.500000  515.572243\n",
      "max    545.000000  552.932853\n",
      "3.917266523512582\n"
     ]
    },
    {
     "data": {
      "image/png": "[encoded data removed]",
      "text/plain": [
       "<Figure size 432x288 with 1 Axes>"
      ]
     },
     "metadata": {
      "needs_background": "light"
     },
     "output_type": "display_data"
    }
   ],
   "source": [
    "ypred = loaded_model.predict(x)\n",
    "score = loaded_model.score(x, y)\n",
    "mse = mean_squared_error(y, ypred)\n",
    "print(\"R2:{0:.3f}, MSE:{1:.2f}, RMSE:{2:.2f}\".format(score, mse, np.sqrt(mse)))\n",
    "\n",
    "df = pd.DataFrame()\n",
    "df ['y_test'] = y\n",
    "df['Pred'] = ypred\n",
    "print(df.head())\n",
    "print(end='\\n \\n')\n",
    "print(df.describe())\n",
    "\n",
    "\n",
    "def mean_absolute_percentage_error(yt, yp): \n",
    "    yt, yp = np.array(yt), np.array(yp)\n",
    "    return np.mean(np.abs((yt - yp) / yt)) * 100\n",
    "print(mean_absolute_percentage_error(y,ypred))\n",
    "\n",
    "x_ax = range(len(x))\n",
    "plt.scatter(x_ax, y, s=5, color=\"blue\", label=\"original\")\n",
    "plt.plot(x_ax, ypred, lw=0.8, color=\"red\", label=\"predicted\")\n",
    "plt.legend()\n",
    "plt.show()\n",
    "#RMSE:26.83\n",
    "# Error - 3.9025422458861314\n",
    "#alpha = 0.0000000000016"
   ]
  },
  {
   "cell_type": "code",
   "execution_count": null,
   "metadata": {},
   "outputs": [],
   "source": []
  },
  {
   "cell_type": "code",
   "execution_count": 255,
   "metadata": {},
   "outputs": [],
   "source": [
    "loaded_model2 = pickle.load(open(filename2, 'rb'))"
   ]
  },
  {
   "cell_type": "code",
   "execution_count": 256,
   "metadata": {},
   "outputs": [
    {
     "name": "stdout",
     "output_type": "stream",
     "text": [
      "R2:-0.102, MSE:1887.51, RMSE:43.45\n",
      "   y_test        Pred\n",
      "0     534  491.555556\n",
      "2     362  491.555556\n",
      "3     508  491.555556\n",
      "4     492  491.555556\n",
      "5     510  491.555556\n",
      "\n",
      " \n",
      "           y_test          Pred\n",
      "count   19.000000  1.900000e+01\n",
      "mean   504.789474  4.915556e+02\n",
      "std     42.514807  5.840106e-14\n",
      "min    362.000000  4.915556e+02\n",
      "25%    492.500000  4.915556e+02\n",
      "50%    510.000000  4.915556e+02\n",
      "75%    531.500000  4.915556e+02\n",
      "max    545.000000  4.915556e+02\n",
      "6.876054829938772\n"
     ]
    },
    {
     "data": {
      "image/png": "[encoded data removed]",
      "text/plain": [
       "<Figure size 432x288 with 1 Axes>"
      ]
     },
     "metadata": {
      "needs_background": "light"
     },
     "output_type": "display_data"
    }
   ],
   "source": [
    "ypred = loaded_model2.predict(x)\n",
    "score = loaded_model2.score(x, y)\n",
    "mse = mean_squared_error(y, ypred)\n",
    "print(\"R2:{0:.3f}, MSE:{1:.2f}, RMSE:{2:.2f}\".format(score, mse, np.sqrt(mse)))\n",
    "\n",
    "df = pd.DataFrame()\n",
    "df ['y_test'] = y\n",
    "df['Pred'] = ypred\n",
    "print(df.head())\n",
    "print(end='\\n \\n')\n",
    "print(df.describe())\n",
    "\n",
    "\n",
    "def mean_absolute_percentage_error(yt, yp): \n",
    "    yt, yp = np.array(yt), np.array(yp)\n",
    "    return np.mean(np.abs((yt - yp) / yt)) * 100\n",
    "print(mean_absolute_percentage_error(y,ypred))\n",
    "\n",
    "x_ax = range(len(x))\n",
    "plt.scatter(x_ax, y, s=5, color=\"blue\", label=\"original\")\n",
    "plt.plot(x_ax, ypred, lw=0.8, color=\"red\", label=\"predicted\")\n",
    "plt.legend()\n",
    "plt.show()"
   ]
  },
  {
   "cell_type": "code",
   "execution_count": null,
   "metadata": {},
   "outputs": [],
   "source": []
  },
  {
   "cell_type": "code",
   "execution_count": null,
   "metadata": {},
   "outputs": [],
   "source": []
  },
  {
   "cell_type": "code",
   "execution_count": null,
   "metadata": {},
   "outputs": [],
   "source": []
  },
  {
   "cell_type": "markdown",
   "metadata": {},
   "source": [
    "# Secondary Data set Testing "
   ]
  },
  {
   "cell_type": "code",
   "execution_count": 17,
   "metadata": {},
   "outputs": [
    {
     "ename": "FileNotFoundError",
     "evalue": "[Errno 2] File b'Train_High.csv' does not exist: b'Train_High.csv'",
     "output_type": "error",
     "traceback": [
      "\u001b[1;31m---------------------------------------------------------------------------\u001b[0m",
      "\u001b[1;31mFileNotFoundError\u001b[0m                         Traceback (most recent call last)",
      "\u001b[1;32m<ipython-input-17-2a531ab36a58>\u001b[0m in \u001b[0;36m<module>\u001b[1;34m\u001b[0m\n\u001b[1;32m----> 1\u001b[1;33m \u001b[0msecondary_Data\u001b[0m \u001b[1;33m=\u001b[0m \u001b[0mpd\u001b[0m\u001b[1;33m.\u001b[0m\u001b[0mread_csv\u001b[0m\u001b[1;33m(\u001b[0m\u001b[1;34m'Train_High.csv'\u001b[0m\u001b[1;33m)\u001b[0m\u001b[1;33m\u001b[0m\u001b[1;33m\u001b[0m\u001b[0m\n\u001b[0m",
      "\u001b[1;32mC:\\ProgramData\\Anaconda3\\lib\\site-packages\\pandas\\io\\parsers.py\u001b[0m in \u001b[0;36mparser_f\u001b[1;34m(filepath_or_buffer, sep, delimiter, header, names, index_col, usecols, squeeze, prefix, mangle_dupe_cols, dtype, engine, converters, true_values, false_values, skipinitialspace, skiprows, skipfooter, nrows, na_values, keep_default_na, na_filter, verbose, skip_blank_lines, parse_dates, infer_datetime_format, keep_date_col, date_parser, dayfirst, iterator, chunksize, compression, thousands, decimal, lineterminator, quotechar, quoting, doublequote, escapechar, comment, encoding, dialect, tupleize_cols, error_bad_lines, warn_bad_lines, delim_whitespace, low_memory, memory_map, float_precision)\u001b[0m\n\u001b[0;32m    700\u001b[0m                     skip_blank_lines=skip_blank_lines)\n\u001b[0;32m    701\u001b[0m \u001b[1;33m\u001b[0m\u001b[0m\n\u001b[1;32m--> 702\u001b[1;33m         \u001b[1;32mreturn\u001b[0m \u001b[0m_read\u001b[0m\u001b[1;33m(\u001b[0m\u001b[0mfilepath_or_buffer\u001b[0m\u001b[1;33m,\u001b[0m \u001b[0mkwds\u001b[0m\u001b[1;33m)\u001b[0m\u001b[1;33m\u001b[0m\u001b[1;33m\u001b[0m\u001b[0m\n\u001b[0m\u001b[0;32m    703\u001b[0m \u001b[1;33m\u001b[0m\u001b[0m\n\u001b[0;32m    704\u001b[0m     \u001b[0mparser_f\u001b[0m\u001b[1;33m.\u001b[0m\u001b[0m__name__\u001b[0m \u001b[1;33m=\u001b[0m \u001b[0mname\u001b[0m\u001b[1;33m\u001b[0m\u001b[1;33m\u001b[0m\u001b[0m\n",
      "\u001b[1;32mC:\\ProgramData\\Anaconda3\\lib\\site-packages\\pandas\\io\\parsers.py\u001b[0m in \u001b[0;36m_read\u001b[1;34m(filepath_or_buffer, kwds)\u001b[0m\n\u001b[0;32m    427\u001b[0m \u001b[1;33m\u001b[0m\u001b[0m\n\u001b[0;32m    428\u001b[0m     \u001b[1;31m# Create the parser.\u001b[0m\u001b[1;33m\u001b[0m\u001b[1;33m\u001b[0m\u001b[1;33m\u001b[0m\u001b[0m\n\u001b[1;32m--> 429\u001b[1;33m     \u001b[0mparser\u001b[0m \u001b[1;33m=\u001b[0m \u001b[0mTextFileReader\u001b[0m\u001b[1;33m(\u001b[0m\u001b[0mfilepath_or_buffer\u001b[0m\u001b[1;33m,\u001b[0m \u001b[1;33m**\u001b[0m\u001b[0mkwds\u001b[0m\u001b[1;33m)\u001b[0m\u001b[1;33m\u001b[0m\u001b[1;33m\u001b[0m\u001b[0m\n\u001b[0m\u001b[0;32m    430\u001b[0m \u001b[1;33m\u001b[0m\u001b[0m\n\u001b[0;32m    431\u001b[0m     \u001b[1;32mif\u001b[0m \u001b[0mchunksize\u001b[0m \u001b[1;32mor\u001b[0m \u001b[0miterator\u001b[0m\u001b[1;33m:\u001b[0m\u001b[1;33m\u001b[0m\u001b[1;33m\u001b[0m\u001b[0m\n",
      "\u001b[1;32mC:\\ProgramData\\Anaconda3\\lib\\site-packages\\pandas\\io\\parsers.py\u001b[0m in \u001b[0;36m__init__\u001b[1;34m(self, f, engine, **kwds)\u001b[0m\n\u001b[0;32m    893\u001b[0m             \u001b[0mself\u001b[0m\u001b[1;33m.\u001b[0m\u001b[0moptions\u001b[0m\u001b[1;33m[\u001b[0m\u001b[1;34m'has_index_names'\u001b[0m\u001b[1;33m]\u001b[0m \u001b[1;33m=\u001b[0m \u001b[0mkwds\u001b[0m\u001b[1;33m[\u001b[0m\u001b[1;34m'has_index_names'\u001b[0m\u001b[1;33m]\u001b[0m\u001b[1;33m\u001b[0m\u001b[1;33m\u001b[0m\u001b[0m\n\u001b[0;32m    894\u001b[0m \u001b[1;33m\u001b[0m\u001b[0m\n\u001b[1;32m--> 895\u001b[1;33m         \u001b[0mself\u001b[0m\u001b[1;33m.\u001b[0m\u001b[0m_make_engine\u001b[0m\u001b[1;33m(\u001b[0m\u001b[0mself\u001b[0m\u001b[1;33m.\u001b[0m\u001b[0mengine\u001b[0m\u001b[1;33m)\u001b[0m\u001b[1;33m\u001b[0m\u001b[1;33m\u001b[0m\u001b[0m\n\u001b[0m\u001b[0;32m    896\u001b[0m \u001b[1;33m\u001b[0m\u001b[0m\n\u001b[0;32m    897\u001b[0m     \u001b[1;32mdef\u001b[0m \u001b[0mclose\u001b[0m\u001b[1;33m(\u001b[0m\u001b[0mself\u001b[0m\u001b[1;33m)\u001b[0m\u001b[1;33m:\u001b[0m\u001b[1;33m\u001b[0m\u001b[1;33m\u001b[0m\u001b[0m\n",
      "\u001b[1;32mC:\\ProgramData\\Anaconda3\\lib\\site-packages\\pandas\\io\\parsers.py\u001b[0m in \u001b[0;36m_make_engine\u001b[1;34m(self, engine)\u001b[0m\n\u001b[0;32m   1120\u001b[0m     \u001b[1;32mdef\u001b[0m \u001b[0m_make_engine\u001b[0m\u001b[1;33m(\u001b[0m\u001b[0mself\u001b[0m\u001b[1;33m,\u001b[0m \u001b[0mengine\u001b[0m\u001b[1;33m=\u001b[0m\u001b[1;34m'c'\u001b[0m\u001b[1;33m)\u001b[0m\u001b[1;33m:\u001b[0m\u001b[1;33m\u001b[0m\u001b[1;33m\u001b[0m\u001b[0m\n\u001b[0;32m   1121\u001b[0m         \u001b[1;32mif\u001b[0m \u001b[0mengine\u001b[0m \u001b[1;33m==\u001b[0m \u001b[1;34m'c'\u001b[0m\u001b[1;33m:\u001b[0m\u001b[1;33m\u001b[0m\u001b[1;33m\u001b[0m\u001b[0m\n\u001b[1;32m-> 1122\u001b[1;33m             \u001b[0mself\u001b[0m\u001b[1;33m.\u001b[0m\u001b[0m_engine\u001b[0m \u001b[1;33m=\u001b[0m \u001b[0mCParserWrapper\u001b[0m\u001b[1;33m(\u001b[0m\u001b[0mself\u001b[0m\u001b[1;33m.\u001b[0m\u001b[0mf\u001b[0m\u001b[1;33m,\u001b[0m \u001b[1;33m**\u001b[0m\u001b[0mself\u001b[0m\u001b[1;33m.\u001b[0m\u001b[0moptions\u001b[0m\u001b[1;33m)\u001b[0m\u001b[1;33m\u001b[0m\u001b[1;33m\u001b[0m\u001b[0m\n\u001b[0m\u001b[0;32m   1123\u001b[0m         \u001b[1;32melse\u001b[0m\u001b[1;33m:\u001b[0m\u001b[1;33m\u001b[0m\u001b[1;33m\u001b[0m\u001b[0m\n\u001b[0;32m   1124\u001b[0m             \u001b[1;32mif\u001b[0m \u001b[0mengine\u001b[0m \u001b[1;33m==\u001b[0m \u001b[1;34m'python'\u001b[0m\u001b[1;33m:\u001b[0m\u001b[1;33m\u001b[0m\u001b[1;33m\u001b[0m\u001b[0m\n",
      "\u001b[1;32mC:\\ProgramData\\Anaconda3\\lib\\site-packages\\pandas\\io\\parsers.py\u001b[0m in \u001b[0;36m__init__\u001b[1;34m(self, src, **kwds)\u001b[0m\n\u001b[0;32m   1851\u001b[0m         \u001b[0mkwds\u001b[0m\u001b[1;33m[\u001b[0m\u001b[1;34m'usecols'\u001b[0m\u001b[1;33m]\u001b[0m \u001b[1;33m=\u001b[0m \u001b[0mself\u001b[0m\u001b[1;33m.\u001b[0m\u001b[0musecols\u001b[0m\u001b[1;33m\u001b[0m\u001b[1;33m\u001b[0m\u001b[0m\n\u001b[0;32m   1852\u001b[0m \u001b[1;33m\u001b[0m\u001b[0m\n\u001b[1;32m-> 1853\u001b[1;33m         \u001b[0mself\u001b[0m\u001b[1;33m.\u001b[0m\u001b[0m_reader\u001b[0m \u001b[1;33m=\u001b[0m \u001b[0mparsers\u001b[0m\u001b[1;33m.\u001b[0m\u001b[0mTextReader\u001b[0m\u001b[1;33m(\u001b[0m\u001b[0msrc\u001b[0m\u001b[1;33m,\u001b[0m \u001b[1;33m**\u001b[0m\u001b[0mkwds\u001b[0m\u001b[1;33m)\u001b[0m\u001b[1;33m\u001b[0m\u001b[1;33m\u001b[0m\u001b[0m\n\u001b[0m\u001b[0;32m   1854\u001b[0m         \u001b[0mself\u001b[0m\u001b[1;33m.\u001b[0m\u001b[0munnamed_cols\u001b[0m \u001b[1;33m=\u001b[0m \u001b[0mself\u001b[0m\u001b[1;33m.\u001b[0m\u001b[0m_reader\u001b[0m\u001b[1;33m.\u001b[0m\u001b[0munnamed_cols\u001b[0m\u001b[1;33m\u001b[0m\u001b[1;33m\u001b[0m\u001b[0m\n\u001b[0;32m   1855\u001b[0m \u001b[1;33m\u001b[0m\u001b[0m\n",
      "\u001b[1;32mpandas/_libs/parsers.pyx\u001b[0m in \u001b[0;36mpandas._libs.parsers.TextReader.__cinit__\u001b[1;34m()\u001b[0m\n",
      "\u001b[1;32mpandas/_libs/parsers.pyx\u001b[0m in \u001b[0;36mpandas._libs.parsers.TextReader._setup_parser_source\u001b[1;34m()\u001b[0m\n",
      "\u001b[1;31mFileNotFoundError\u001b[0m: [Errno 2] File b'Train_High.csv' does not exist: b'Train_High.csv'"
     ]
    }
   ],
   "source": [
    "secondary_Data = pd.read_csv(.csv')"
   ]
  },
  {
   "cell_type": "code",
   "execution_count": null,
   "metadata": {},
   "outputs": [],
   "source": [
    "secondary_Data.head()"
   ]
  },
  {
   "cell_type": "code",
   "execution_count": 49,
   "metadata": {},
   "outputs": [],
   "source": [
    "x = secondary_Data[['min','log10_Var100-10','Dis_max','Slope', 'Intercept','intergration.1','charge tym','IR_min','IR_diff']]\n",
    "y = secondary_Data['Life Cy']"
   ]
  },
  {
   "cell_type": "code",
   "execution_count": 50,
   "metadata": {},
   "outputs": [],
   "source": [
    "loaded_model = pickle.load(open(filename, 'rb'))"
   ]
  },
  {
   "cell_type": "code",
   "execution_count": 51,
   "metadata": {},
   "outputs": [
    {
     "name": "stdout",
     "output_type": "stream",
     "text": [
      "R2:0.552, MSE:10409.55, RMSE:102.03\n"
     ]
    }
   ],
   "source": [
    "ypred = loaded_model.predict(x)\n",
    "score = loaded_model.score(x, y)\n",
    "mse = mean_squared_error(y, ypred)\n",
    "print(\"R2:{0:.3f}, MSE:{1:.2f}, RMSE:{2:.2f}\".format(score, mse, np.sqrt(mse)))"
   ]
  },
  {
   "cell_type": "code",
   "execution_count": 52,
   "metadata": {},
   "outputs": [
    {
     "name": "stdout",
     "output_type": "stream",
     "text": [
      "   y_test        Pred\n",
      "0    1074  923.592332\n",
      "1     870  802.979838\n",
      "2     788  927.721121\n",
      "3     880  867.685044\n",
      "4     862  898.682859\n",
      "\n",
      " \n",
      "            y_test         Pred\n",
      "count    20.000000    20.000000\n",
      "mean    796.050000   825.943107\n",
      "std     156.436796   114.910622\n",
      "min     559.000000   622.946046\n",
      "25%     650.250000   755.922475\n",
      "50%     815.000000   827.240532\n",
      "75%     877.000000   900.946955\n",
      "max    1074.000000  1147.541677\n"
     ]
    }
   ],
   "source": [
    "df = pd.DataFrame()\n",
    "df ['y_test'] = y\n",
    "df['Pred'] = ypred\n",
    "print(df.head())\n",
    "print(end='\\n \\n')\n",
    "print(df.describe())"
   ]
  },
  {
   "cell_type": "code",
   "execution_count": 53,
   "metadata": {},
   "outputs": [
    {
     "data": {
      "text/plain": [
       "11.156161245861"
      ]
     },
     "execution_count": 53,
     "metadata": {},
     "output_type": "execute_result"
    }
   ],
   "source": [
    "def mean_absolute_percentage_error(yt, yp): \n",
    "    yt, yp = np.array(yt), np.array(yp)\n",
    "    return np.mean(np.abs((yt - yp) / yt)) * 100\n",
    "mean_absolute_percentage_error(y,ypred)"
   ]
  },
  {
   "cell_type": "code",
   "execution_count": 54,
   "metadata": {},
   "outputs": [
    {
     "data": {
      "image/png": "[encoded data removed]",
      "text/plain": [
       "<Figure size 432x288 with 1 Axes>"
      ]
     },
     "metadata": {
      "needs_background": "light"
     },
     "output_type": "display_data"
    }
   ],
   "source": [
    "x_ax = range(len(x))\n",
    "plt.scatter(x_ax, y, s=5, color=\"blue\", label=\"original\")\n",
    "plt.plot(x_ax, ypred, lw=0.8, color=\"red\", label=\"predicted\")\n",
    "plt.legend()\n",
    "plt.show()"
   ]
  },
  {
   "cell_type": "code",
   "execution_count": null,
   "metadata": {},
   "outputs": [],
   "source": []
  },
  {
   "cell_type": "code",
   "execution_count": null,
   "metadata": {},
   "outputs": [],
   "source": []
  }
 ],
 "metadata": {
  "kernelspec": {
   "display_name": "Python 3",
   "language": "python",
   "name": "python3"
  },
  "language_info": {
   "codemirror_mode": {
    "name": "ipython",
    "version": 3
   },
   "file_extension": ".py",
   "mimetype": "text/x-python",
   "name": "python",
   "nbconvert_exporter": "python",
   "pygments_lexer": "ipython3",
   "version": "3.7.3"
  }
 },
 "nbformat": 4,
 "nbformat_minor": 2
}
