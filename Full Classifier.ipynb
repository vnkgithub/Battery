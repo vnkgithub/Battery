{
 "cells": [
  {
   "cell_type": "markdown",
   "metadata": {},
   "source": [
    "# Import Libraries"
   ]
  },
  {
   "cell_type": "code",
   "execution_count": 1,
   "metadata": {},
   "outputs": [],
   "source": [
    "import pandas as pd\n",
    "import numpy as np\n",
    "import matplotlib.pyplot as plt\n",
    "import seaborn as sns\n",
    "%matplotlib inline"
   ]
  },
  {
   "cell_type": "markdown",
   "metadata": {},
   "source": [
    "# Get the Data\n",
    "\n",
    "Read in the Train.csv file and set it to a data frame called data.\n"
   ]
  },
  {
   "cell_type": "code",
   "execution_count": 2,
   "metadata": {},
   "outputs": [],
   "source": [
    "data = pd.read_csv('TRAIN_1_Combo.csv')"
   ]
  },
  {
   "cell_type": "code",
   "execution_count": 3,
   "metadata": {},
   "outputs": [
    {
     "data": {
      "text/html": [
       "<div>\n",
       "<style scoped>\n",
       "    .dataframe tbody tr th:only-of-type {\n",
       "        vertical-align: middle;\n",
       "    }\n",
       "\n",
       "    .dataframe tbody tr th {\n",
       "        vertical-align: top;\n",
       "    }\n",
       "\n",
       "    .dataframe thead th {\n",
       "        text-align: right;\n",
       "    }\n",
       "</style>\n",
       "<table border=\"1\" class=\"dataframe\">\n",
       "  <thead>\n",
       "    <tr style=\"text-align: right;\">\n",
       "      <th></th>\n",
       "      <th>Unnamed: 0</th>\n",
       "      <th>intergration</th>\n",
       "      <th>Life Cy</th>\n",
       "      <th>var 100_10</th>\n",
       "      <th>min</th>\n",
       "      <th>kurtosis</th>\n",
       "      <th>skewness</th>\n",
       "      <th>intergration.1</th>\n",
       "      <th>charge tym</th>\n",
       "      <th>Slope</th>\n",
       "      <th>Intercept</th>\n",
       "      <th>Q_d</th>\n",
       "      <th>IR_diff</th>\n",
       "      <th>IR_min</th>\n",
       "      <th>Dis_max</th>\n",
       "      <th>log10_Var100-10</th>\n",
       "    </tr>\n",
       "  </thead>\n",
       "  <tbody>\n",
       "    <tr>\n",
       "      <th>0</th>\n",
       "      <td>0</td>\n",
       "      <td>414880.7240</td>\n",
       "      <td>2238</td>\n",
       "      <td>0.000023</td>\n",
       "      <td>-0.022422</td>\n",
       "      <td>0.865508</td>\n",
       "      <td>-0.995046</td>\n",
       "      <td>10859167.51</td>\n",
       "      <td>2160.97564</td>\n",
       "      <td>0.000010</td>\n",
       "      <td>1.084846</td>\n",
       "      <td>0.005018</td>\n",
       "      <td>-0.000045</td>\n",
       "      <td>0.000000</td>\n",
       "      <td>1.079922</td>\n",
       "      <td>-4.637964</td>\n",
       "    </tr>\n",
       "    <tr>\n",
       "      <th>1</th>\n",
       "      <td>1</td>\n",
       "      <td>385677.1322</td>\n",
       "      <td>1435</td>\n",
       "      <td>0.000035</td>\n",
       "      <td>-0.021628</td>\n",
       "      <td>-0.893504</td>\n",
       "      <td>-0.561000</td>\n",
       "      <td>10161183.08</td>\n",
       "      <td>1932.89428</td>\n",
       "      <td>0.000017</td>\n",
       "      <td>1.084075</td>\n",
       "      <td>0.005027</td>\n",
       "      <td>0.000008</td>\n",
       "      <td>0.000000</td>\n",
       "      <td>1.079723</td>\n",
       "      <td>-4.456075</td>\n",
       "    </tr>\n",
       "    <tr>\n",
       "      <th>2</th>\n",
       "      <td>2</td>\n",
       "      <td>385915.5517</td>\n",
       "      <td>1074</td>\n",
       "      <td>0.000077</td>\n",
       "      <td>-0.027275</td>\n",
       "      <td>-1.145265</td>\n",
       "      <td>-0.217341</td>\n",
       "      <td>10269949.67</td>\n",
       "      <td>1440.52884</td>\n",
       "      <td>0.000011</td>\n",
       "      <td>1.079755</td>\n",
       "      <td>0.003653</td>\n",
       "      <td>-0.000146</td>\n",
       "      <td>0.015923</td>\n",
       "      <td>1.076127</td>\n",
       "      <td>-4.112497</td>\n",
       "    </tr>\n",
       "    <tr>\n",
       "      <th>3</th>\n",
       "      <td>3</td>\n",
       "      <td>392575.0602</td>\n",
       "      <td>870</td>\n",
       "      <td>0.000169</td>\n",
       "      <td>-0.041380</td>\n",
       "      <td>-1.027309</td>\n",
       "      <td>-0.444494</td>\n",
       "      <td>10424435.20</td>\n",
       "      <td>2160.62376</td>\n",
       "      <td>-0.000006</td>\n",
       "      <td>1.097254</td>\n",
       "      <td>0.001898</td>\n",
       "      <td>-0.000049</td>\n",
       "      <td>0.000000</td>\n",
       "      <td>1.093864</td>\n",
       "      <td>-3.771349</td>\n",
       "    </tr>\n",
       "    <tr>\n",
       "      <th>4</th>\n",
       "      <td>4</td>\n",
       "      <td>415083.9869</td>\n",
       "      <td>788</td>\n",
       "      <td>0.000068</td>\n",
       "      <td>-0.026572</td>\n",
       "      <td>-0.860833</td>\n",
       "      <td>-0.716910</td>\n",
       "      <td>10990040.16</td>\n",
       "      <td>1440.52842</td>\n",
       "      <td>0.000022</td>\n",
       "      <td>1.058972</td>\n",
       "      <td>0.006193</td>\n",
       "      <td>-0.000286</td>\n",
       "      <td>0.000000</td>\n",
       "      <td>1.053779</td>\n",
       "      <td>-4.170601</td>\n",
       "    </tr>\n",
       "  </tbody>\n",
       "</table>\n",
       "</div>"
      ],
      "text/plain": [
       "   Unnamed: 0  intergration  Life Cy  var 100_10       min  kurtosis  \\\n",
       "0           0   414880.7240     2238    0.000023 -0.022422  0.865508   \n",
       "1           1   385677.1322     1435    0.000035 -0.021628 -0.893504   \n",
       "2           2   385915.5517     1074    0.000077 -0.027275 -1.145265   \n",
       "3           3   392575.0602      870    0.000169 -0.041380 -1.027309   \n",
       "4           4   415083.9869      788    0.000068 -0.026572 -0.860833   \n",
       "\n",
       "   skewness  intergration.1  charge tym     Slope  Intercept       Q_d  \\\n",
       "0 -0.995046     10859167.51  2160.97564  0.000010   1.084846  0.005018   \n",
       "1 -0.561000     10161183.08  1932.89428  0.000017   1.084075  0.005027   \n",
       "2 -0.217341     10269949.67  1440.52884  0.000011   1.079755  0.003653   \n",
       "3 -0.444494     10424435.20  2160.62376 -0.000006   1.097254  0.001898   \n",
       "4 -0.716910     10990040.16  1440.52842  0.000022   1.058972  0.006193   \n",
       "\n",
       "    IR_diff    IR_min   Dis_max  log10_Var100-10  \n",
       "0 -0.000045  0.000000  1.079922        -4.637964  \n",
       "1  0.000008  0.000000  1.079723        -4.456075  \n",
       "2 -0.000146  0.015923  1.076127        -4.112497  \n",
       "3 -0.000049  0.000000  1.093864        -3.771349  \n",
       "4 -0.000286  0.000000  1.053779        -4.170601  "
      ]
     },
     "execution_count": 3,
     "metadata": {},
     "output_type": "execute_result"
    }
   ],
   "source": [
    "data.head()"
   ]
  },
  {
   "cell_type": "markdown",
   "metadata": {},
   "source": [
    "# Labeling the Data "
   ]
  },
  {
   "cell_type": "code",
   "execution_count": 4,
   "metadata": {},
   "outputs": [],
   "source": [
    "Life = data['Life Cy'].values\n",
    "Lable = []\n",
    "for i in Life :\n",
    "    if  i < 550:\n",
    "        Lable.append(0)\n",
    "    else :\n",
    "        Lable.append(1)"
   ]
  },
  {
   "cell_type": "code",
   "execution_count": 5,
   "metadata": {},
   "outputs": [],
   "source": [
    "data['Lable'] = Lable"
   ]
  },
  {
   "cell_type": "markdown",
   "metadata": {},
   "source": [
    "# Visualization "
   ]
  },
  {
   "cell_type": "code",
   "execution_count": 6,
   "metadata": {},
   "outputs": [
    {
     "data": {
      "text/html": [
       "<div>\n",
       "<style scoped>\n",
       "    .dataframe tbody tr th:only-of-type {\n",
       "        vertical-align: middle;\n",
       "    }\n",
       "\n",
       "    .dataframe tbody tr th {\n",
       "        vertical-align: top;\n",
       "    }\n",
       "\n",
       "    .dataframe thead th {\n",
       "        text-align: right;\n",
       "    }\n",
       "</style>\n",
       "<table border=\"1\" class=\"dataframe\">\n",
       "  <thead>\n",
       "    <tr style=\"text-align: right;\">\n",
       "      <th></th>\n",
       "      <th>Unnamed: 0</th>\n",
       "      <th>intergration</th>\n",
       "      <th>Life Cy</th>\n",
       "      <th>var 100_10</th>\n",
       "      <th>min</th>\n",
       "      <th>kurtosis</th>\n",
       "      <th>skewness</th>\n",
       "      <th>intergration.1</th>\n",
       "      <th>charge tym</th>\n",
       "      <th>Slope</th>\n",
       "      <th>Intercept</th>\n",
       "      <th>Q_d</th>\n",
       "      <th>IR_diff</th>\n",
       "      <th>IR_min</th>\n",
       "      <th>Dis_max</th>\n",
       "      <th>log10_Var100-10</th>\n",
       "      <th>Lable</th>\n",
       "    </tr>\n",
       "  </thead>\n",
       "  <tbody>\n",
       "    <tr>\n",
       "      <th>Unnamed: 0</th>\n",
       "      <td>1.000000</td>\n",
       "      <td>0.848951</td>\n",
       "      <td>-0.697266</td>\n",
       "      <td>0.334602</td>\n",
       "      <td>-0.454265</td>\n",
       "      <td>-0.647152</td>\n",
       "      <td>0.573446</td>\n",
       "      <td>-0.837792</td>\n",
       "      <td>0.030611</td>\n",
       "      <td>-0.056458</td>\n",
       "      <td>-0.316504</td>\n",
       "      <td>-0.020108</td>\n",
       "      <td>-0.242174</td>\n",
       "      <td>0.618107</td>\n",
       "      <td>-0.353880</td>\n",
       "      <td>0.670924</td>\n",
       "      <td>-0.829890</td>\n",
       "    </tr>\n",
       "    <tr>\n",
       "      <th>intergration</th>\n",
       "      <td>0.848951</td>\n",
       "      <td>1.000000</td>\n",
       "      <td>-0.565581</td>\n",
       "      <td>0.310401</td>\n",
       "      <td>-0.420509</td>\n",
       "      <td>-0.437714</td>\n",
       "      <td>0.379208</td>\n",
       "      <td>-0.859908</td>\n",
       "      <td>0.007210</td>\n",
       "      <td>-0.154451</td>\n",
       "      <td>-0.444712</td>\n",
       "      <td>-0.119120</td>\n",
       "      <td>-0.498288</td>\n",
       "      <td>0.455222</td>\n",
       "      <td>-0.483318</td>\n",
       "      <td>0.571878</td>\n",
       "      <td>-0.883025</td>\n",
       "    </tr>\n",
       "    <tr>\n",
       "      <th>Life Cy</th>\n",
       "      <td>-0.697266</td>\n",
       "      <td>-0.565581</td>\n",
       "      <td>1.000000</td>\n",
       "      <td>-0.499055</td>\n",
       "      <td>0.644648</td>\n",
       "      <td>0.900828</td>\n",
       "      <td>-0.750397</td>\n",
       "      <td>0.571113</td>\n",
       "      <td>-0.027389</td>\n",
       "      <td>0.295142</td>\n",
       "      <td>0.287499</td>\n",
       "      <td>0.282611</td>\n",
       "      <td>0.301217</td>\n",
       "      <td>-0.552180</td>\n",
       "      <td>0.316954</td>\n",
       "      <td>-0.863717</td>\n",
       "      <td>0.609150</td>\n",
       "    </tr>\n",
       "    <tr>\n",
       "      <th>var 100_10</th>\n",
       "      <td>0.334602</td>\n",
       "      <td>0.310401</td>\n",
       "      <td>-0.499055</td>\n",
       "      <td>1.000000</td>\n",
       "      <td>-0.950175</td>\n",
       "      <td>-0.320212</td>\n",
       "      <td>0.565001</td>\n",
       "      <td>-0.457180</td>\n",
       "      <td>0.098701</td>\n",
       "      <td>-0.827009</td>\n",
       "      <td>-0.119134</td>\n",
       "      <td>-0.804165</td>\n",
       "      <td>-0.271094</td>\n",
       "      <td>0.238812</td>\n",
       "      <td>-0.206691</td>\n",
       "      <td>0.774702</td>\n",
       "      <td>-0.492175</td>\n",
       "    </tr>\n",
       "    <tr>\n",
       "      <th>min</th>\n",
       "      <td>-0.454265</td>\n",
       "      <td>-0.420509</td>\n",
       "      <td>0.644648</td>\n",
       "      <td>-0.950175</td>\n",
       "      <td>1.000000</td>\n",
       "      <td>0.443144</td>\n",
       "      <td>-0.661874</td>\n",
       "      <td>0.531441</td>\n",
       "      <td>-0.116767</td>\n",
       "      <td>0.792535</td>\n",
       "      <td>0.119903</td>\n",
       "      <td>0.767398</td>\n",
       "      <td>0.380574</td>\n",
       "      <td>-0.333391</td>\n",
       "      <td>0.199949</td>\n",
       "      <td>-0.909887</td>\n",
       "      <td>0.563922</td>\n",
       "    </tr>\n",
       "    <tr>\n",
       "      <th>kurtosis</th>\n",
       "      <td>-0.647152</td>\n",
       "      <td>-0.437714</td>\n",
       "      <td>0.900828</td>\n",
       "      <td>-0.320212</td>\n",
       "      <td>0.443144</td>\n",
       "      <td>1.000000</td>\n",
       "      <td>-0.804008</td>\n",
       "      <td>0.518869</td>\n",
       "      <td>-0.038263</td>\n",
       "      <td>0.155047</td>\n",
       "      <td>0.146755</td>\n",
       "      <td>0.151128</td>\n",
       "      <td>0.204995</td>\n",
       "      <td>-0.606005</td>\n",
       "      <td>0.159790</td>\n",
       "      <td>-0.703378</td>\n",
       "      <td>0.496858</td>\n",
       "    </tr>\n",
       "    <tr>\n",
       "      <th>skewness</th>\n",
       "      <td>0.573446</td>\n",
       "      <td>0.379208</td>\n",
       "      <td>-0.750397</td>\n",
       "      <td>0.565001</td>\n",
       "      <td>-0.661874</td>\n",
       "      <td>-0.804008</td>\n",
       "      <td>1.000000</td>\n",
       "      <td>-0.512805</td>\n",
       "      <td>0.041613</td>\n",
       "      <td>-0.491974</td>\n",
       "      <td>0.031419</td>\n",
       "      <td>-0.479551</td>\n",
       "      <td>-0.304826</td>\n",
       "      <td>0.560337</td>\n",
       "      <td>-0.010184</td>\n",
       "      <td>0.790553</td>\n",
       "      <td>-0.471178</td>\n",
       "    </tr>\n",
       "    <tr>\n",
       "      <th>intergration.1</th>\n",
       "      <td>-0.837792</td>\n",
       "      <td>-0.859908</td>\n",
       "      <td>0.571113</td>\n",
       "      <td>-0.457180</td>\n",
       "      <td>0.531441</td>\n",
       "      <td>0.518869</td>\n",
       "      <td>-0.512805</td>\n",
       "      <td>1.000000</td>\n",
       "      <td>0.021004</td>\n",
       "      <td>0.291199</td>\n",
       "      <td>0.352841</td>\n",
       "      <td>0.249168</td>\n",
       "      <td>0.506459</td>\n",
       "      <td>-0.494374</td>\n",
       "      <td>0.411490</td>\n",
       "      <td>-0.632030</td>\n",
       "      <td>0.887119</td>\n",
       "    </tr>\n",
       "    <tr>\n",
       "      <th>charge tym</th>\n",
       "      <td>0.030611</td>\n",
       "      <td>0.007210</td>\n",
       "      <td>-0.027389</td>\n",
       "      <td>0.098701</td>\n",
       "      <td>-0.116767</td>\n",
       "      <td>-0.038263</td>\n",
       "      <td>0.041613</td>\n",
       "      <td>0.021004</td>\n",
       "      <td>1.000000</td>\n",
       "      <td>-0.082407</td>\n",
       "      <td>0.253442</td>\n",
       "      <td>-0.093302</td>\n",
       "      <td>0.242586</td>\n",
       "      <td>0.257647</td>\n",
       "      <td>0.257611</td>\n",
       "      <td>0.119205</td>\n",
       "      <td>-0.021213</td>\n",
       "    </tr>\n",
       "    <tr>\n",
       "      <th>Slope</th>\n",
       "      <td>-0.056458</td>\n",
       "      <td>-0.154451</td>\n",
       "      <td>0.295142</td>\n",
       "      <td>-0.827009</td>\n",
       "      <td>0.792535</td>\n",
       "      <td>0.155047</td>\n",
       "      <td>-0.491974</td>\n",
       "      <td>0.291199</td>\n",
       "      <td>-0.082407</td>\n",
       "      <td>1.000000</td>\n",
       "      <td>0.155890</td>\n",
       "      <td>0.995396</td>\n",
       "      <td>0.530921</td>\n",
       "      <td>-0.095872</td>\n",
       "      <td>0.210388</td>\n",
       "      <td>-0.588945</td>\n",
       "      <td>0.262414</td>\n",
       "    </tr>\n",
       "    <tr>\n",
       "      <th>Intercept</th>\n",
       "      <td>-0.316504</td>\n",
       "      <td>-0.444712</td>\n",
       "      <td>0.287499</td>\n",
       "      <td>-0.119134</td>\n",
       "      <td>0.119903</td>\n",
       "      <td>0.146755</td>\n",
       "      <td>0.031419</td>\n",
       "      <td>0.352841</td>\n",
       "      <td>0.253442</td>\n",
       "      <td>0.155890</td>\n",
       "      <td>1.000000</td>\n",
       "      <td>0.146205</td>\n",
       "      <td>0.477530</td>\n",
       "      <td>-0.153896</td>\n",
       "      <td>0.991658</td>\n",
       "      <td>-0.157254</td>\n",
       "      <td>0.388155</td>\n",
       "    </tr>\n",
       "    <tr>\n",
       "      <th>Q_d</th>\n",
       "      <td>-0.020108</td>\n",
       "      <td>-0.119120</td>\n",
       "      <td>0.282611</td>\n",
       "      <td>-0.804165</td>\n",
       "      <td>0.767398</td>\n",
       "      <td>0.151128</td>\n",
       "      <td>-0.479551</td>\n",
       "      <td>0.249168</td>\n",
       "      <td>-0.093302</td>\n",
       "      <td>0.995396</td>\n",
       "      <td>0.146205</td>\n",
       "      <td>1.000000</td>\n",
       "      <td>0.512309</td>\n",
       "      <td>-0.082368</td>\n",
       "      <td>0.190940</td>\n",
       "      <td>-0.565832</td>\n",
       "      <td>0.220179</td>\n",
       "    </tr>\n",
       "    <tr>\n",
       "      <th>IR_diff</th>\n",
       "      <td>-0.242174</td>\n",
       "      <td>-0.498288</td>\n",
       "      <td>0.301217</td>\n",
       "      <td>-0.271094</td>\n",
       "      <td>0.380574</td>\n",
       "      <td>0.204995</td>\n",
       "      <td>-0.304826</td>\n",
       "      <td>0.506459</td>\n",
       "      <td>0.242586</td>\n",
       "      <td>0.530921</td>\n",
       "      <td>0.477530</td>\n",
       "      <td>0.512309</td>\n",
       "      <td>1.000000</td>\n",
       "      <td>-0.100450</td>\n",
       "      <td>0.499767</td>\n",
       "      <td>-0.406052</td>\n",
       "      <td>0.441020</td>\n",
       "    </tr>\n",
       "    <tr>\n",
       "      <th>IR_min</th>\n",
       "      <td>0.618107</td>\n",
       "      <td>0.455222</td>\n",
       "      <td>-0.552180</td>\n",
       "      <td>0.238812</td>\n",
       "      <td>-0.333391</td>\n",
       "      <td>-0.606005</td>\n",
       "      <td>0.560337</td>\n",
       "      <td>-0.494374</td>\n",
       "      <td>0.257647</td>\n",
       "      <td>-0.095872</td>\n",
       "      <td>-0.153896</td>\n",
       "      <td>-0.082368</td>\n",
       "      <td>-0.100450</td>\n",
       "      <td>1.000000</td>\n",
       "      <td>-0.162466</td>\n",
       "      <td>0.526104</td>\n",
       "      <td>-0.433178</td>\n",
       "    </tr>\n",
       "    <tr>\n",
       "      <th>Dis_max</th>\n",
       "      <td>-0.353880</td>\n",
       "      <td>-0.483318</td>\n",
       "      <td>0.316954</td>\n",
       "      <td>-0.206691</td>\n",
       "      <td>0.199949</td>\n",
       "      <td>0.159790</td>\n",
       "      <td>-0.010184</td>\n",
       "      <td>0.411490</td>\n",
       "      <td>0.257611</td>\n",
       "      <td>0.210388</td>\n",
       "      <td>0.991658</td>\n",
       "      <td>0.190940</td>\n",
       "      <td>0.499767</td>\n",
       "      <td>-0.162466</td>\n",
       "      <td>1.000000</td>\n",
       "      <td>-0.216862</td>\n",
       "      <td>0.450980</td>\n",
       "    </tr>\n",
       "    <tr>\n",
       "      <th>log10_Var100-10</th>\n",
       "      <td>0.670924</td>\n",
       "      <td>0.571878</td>\n",
       "      <td>-0.863717</td>\n",
       "      <td>0.774702</td>\n",
       "      <td>-0.909887</td>\n",
       "      <td>-0.703378</td>\n",
       "      <td>0.790553</td>\n",
       "      <td>-0.632030</td>\n",
       "      <td>0.119205</td>\n",
       "      <td>-0.588945</td>\n",
       "      <td>-0.157254</td>\n",
       "      <td>-0.565832</td>\n",
       "      <td>-0.406052</td>\n",
       "      <td>0.526104</td>\n",
       "      <td>-0.216862</td>\n",
       "      <td>1.000000</td>\n",
       "      <td>-0.667435</td>\n",
       "    </tr>\n",
       "    <tr>\n",
       "      <th>Lable</th>\n",
       "      <td>-0.829890</td>\n",
       "      <td>-0.883025</td>\n",
       "      <td>0.609150</td>\n",
       "      <td>-0.492175</td>\n",
       "      <td>0.563922</td>\n",
       "      <td>0.496858</td>\n",
       "      <td>-0.471178</td>\n",
       "      <td>0.887119</td>\n",
       "      <td>-0.021213</td>\n",
       "      <td>0.262414</td>\n",
       "      <td>0.388155</td>\n",
       "      <td>0.220179</td>\n",
       "      <td>0.441020</td>\n",
       "      <td>-0.433178</td>\n",
       "      <td>0.450980</td>\n",
       "      <td>-0.667435</td>\n",
       "      <td>1.000000</td>\n",
       "    </tr>\n",
       "  </tbody>\n",
       "</table>\n",
       "</div>"
      ],
      "text/plain": [
       "                 Unnamed: 0  intergration   Life Cy  var 100_10       min  \\\n",
       "Unnamed: 0         1.000000      0.848951 -0.697266    0.334602 -0.454265   \n",
       "intergration       0.848951      1.000000 -0.565581    0.310401 -0.420509   \n",
       "Life Cy           -0.697266     -0.565581  1.000000   -0.499055  0.644648   \n",
       "var 100_10         0.334602      0.310401 -0.499055    1.000000 -0.950175   \n",
       "min               -0.454265     -0.420509  0.644648   -0.950175  1.000000   \n",
       "kurtosis          -0.647152     -0.437714  0.900828   -0.320212  0.443144   \n",
       "skewness           0.573446      0.379208 -0.750397    0.565001 -0.661874   \n",
       "intergration.1    -0.837792     -0.859908  0.571113   -0.457180  0.531441   \n",
       "charge tym         0.030611      0.007210 -0.027389    0.098701 -0.116767   \n",
       "Slope             -0.056458     -0.154451  0.295142   -0.827009  0.792535   \n",
       "Intercept         -0.316504     -0.444712  0.287499   -0.119134  0.119903   \n",
       "Q_d               -0.020108     -0.119120  0.282611   -0.804165  0.767398   \n",
       "IR_diff           -0.242174     -0.498288  0.301217   -0.271094  0.380574   \n",
       "IR_min             0.618107      0.455222 -0.552180    0.238812 -0.333391   \n",
       "Dis_max           -0.353880     -0.483318  0.316954   -0.206691  0.199949   \n",
       "log10_Var100-10    0.670924      0.571878 -0.863717    0.774702 -0.909887   \n",
       "Lable             -0.829890     -0.883025  0.609150   -0.492175  0.563922   \n",
       "\n",
       "                 kurtosis  skewness  intergration.1  charge tym     Slope  \\\n",
       "Unnamed: 0      -0.647152  0.573446       -0.837792    0.030611 -0.056458   \n",
       "intergration    -0.437714  0.379208       -0.859908    0.007210 -0.154451   \n",
       "Life Cy          0.900828 -0.750397        0.571113   -0.027389  0.295142   \n",
       "var 100_10      -0.320212  0.565001       -0.457180    0.098701 -0.827009   \n",
       "min              0.443144 -0.661874        0.531441   -0.116767  0.792535   \n",
       "kurtosis         1.000000 -0.804008        0.518869   -0.038263  0.155047   \n",
       "skewness        -0.804008  1.000000       -0.512805    0.041613 -0.491974   \n",
       "intergration.1   0.518869 -0.512805        1.000000    0.021004  0.291199   \n",
       "charge tym      -0.038263  0.041613        0.021004    1.000000 -0.082407   \n",
       "Slope            0.155047 -0.491974        0.291199   -0.082407  1.000000   \n",
       "Intercept        0.146755  0.031419        0.352841    0.253442  0.155890   \n",
       "Q_d              0.151128 -0.479551        0.249168   -0.093302  0.995396   \n",
       "IR_diff          0.204995 -0.304826        0.506459    0.242586  0.530921   \n",
       "IR_min          -0.606005  0.560337       -0.494374    0.257647 -0.095872   \n",
       "Dis_max          0.159790 -0.010184        0.411490    0.257611  0.210388   \n",
       "log10_Var100-10 -0.703378  0.790553       -0.632030    0.119205 -0.588945   \n",
       "Lable            0.496858 -0.471178        0.887119   -0.021213  0.262414   \n",
       "\n",
       "                 Intercept       Q_d   IR_diff    IR_min   Dis_max  \\\n",
       "Unnamed: 0       -0.316504 -0.020108 -0.242174  0.618107 -0.353880   \n",
       "intergration     -0.444712 -0.119120 -0.498288  0.455222 -0.483318   \n",
       "Life Cy           0.287499  0.282611  0.301217 -0.552180  0.316954   \n",
       "var 100_10       -0.119134 -0.804165 -0.271094  0.238812 -0.206691   \n",
       "min               0.119903  0.767398  0.380574 -0.333391  0.199949   \n",
       "kurtosis          0.146755  0.151128  0.204995 -0.606005  0.159790   \n",
       "skewness          0.031419 -0.479551 -0.304826  0.560337 -0.010184   \n",
       "intergration.1    0.352841  0.249168  0.506459 -0.494374  0.411490   \n",
       "charge tym        0.253442 -0.093302  0.242586  0.257647  0.257611   \n",
       "Slope             0.155890  0.995396  0.530921 -0.095872  0.210388   \n",
       "Intercept         1.000000  0.146205  0.477530 -0.153896  0.991658   \n",
       "Q_d               0.146205  1.000000  0.512309 -0.082368  0.190940   \n",
       "IR_diff           0.477530  0.512309  1.000000 -0.100450  0.499767   \n",
       "IR_min           -0.153896 -0.082368 -0.100450  1.000000 -0.162466   \n",
       "Dis_max           0.991658  0.190940  0.499767 -0.162466  1.000000   \n",
       "log10_Var100-10  -0.157254 -0.565832 -0.406052  0.526104 -0.216862   \n",
       "Lable             0.388155  0.220179  0.441020 -0.433178  0.450980   \n",
       "\n",
       "                 log10_Var100-10     Lable  \n",
       "Unnamed: 0              0.670924 -0.829890  \n",
       "intergration            0.571878 -0.883025  \n",
       "Life Cy                -0.863717  0.609150  \n",
       "var 100_10              0.774702 -0.492175  \n",
       "min                    -0.909887  0.563922  \n",
       "kurtosis               -0.703378  0.496858  \n",
       "skewness                0.790553 -0.471178  \n",
       "intergration.1         -0.632030  0.887119  \n",
       "charge tym              0.119205 -0.021213  \n",
       "Slope                  -0.588945  0.262414  \n",
       "Intercept              -0.157254  0.388155  \n",
       "Q_d                    -0.565832  0.220179  \n",
       "IR_diff                -0.406052  0.441020  \n",
       "IR_min                  0.526104 -0.433178  \n",
       "Dis_max                -0.216862  0.450980  \n",
       "log10_Var100-10         1.000000 -0.667435  \n",
       "Lable                  -0.667435  1.000000  "
      ]
     },
     "execution_count": 6,
     "metadata": {},
     "output_type": "execute_result"
    }
   ],
   "source": [
    " data.corr()"
   ]
  },
  {
   "cell_type": "code",
   "execution_count": 7,
   "metadata": {},
   "outputs": [
    {
     "data": {
      "text/plain": [
       "<matplotlib.axes._subplots.AxesSubplot at 0xf030198>"
      ]
     },
     "execution_count": 7,
     "metadata": {},
     "output_type": "execute_result"
    },
    {
     "data": {
      "image/png": "[encoded data removed]",
      "text/plain": [
       "<Figure size 432x288 with 1 Axes>"
      ]
     },
     "metadata": {
      "needs_background": "light"
     },
     "output_type": "display_data"
    }
   ],
   "source": [
    "data.plot(kind='scatter',x='log10_Var100-10',y='Life Cy',color='red')\n"
   ]
  },
  {
   "cell_type": "markdown",
   "metadata": {},
   "source": [
    "# Train test split, and train our model!"
   ]
  },
  {
   "cell_type": "code",
   "execution_count": 8,
   "metadata": {},
   "outputs": [],
   "source": [
    "from sklearn.model_selection import train_test_split\n",
    "from sklearn.model_selection import KFold, cross_val_score"
   ]
  },
  {
   "cell_type": "code",
   "execution_count": 9,
   "metadata": {},
   "outputs": [
    {
     "data": {
      "text/plain": [
       "Index(['Unnamed: 0', 'intergration', 'Life Cy', 'var 100_10', 'min',\n",
       "       'kurtosis', 'skewness', 'intergration.1', 'charge tym', 'Slope',\n",
       "       'Intercept', 'Q_d', 'IR_diff', 'IR_min', 'Dis_max', 'log10_Var100-10',\n",
       "       'Lable'],\n",
       "      dtype='object')"
      ]
     },
     "execution_count": 9,
     "metadata": {},
     "output_type": "execute_result"
    }
   ],
   "source": [
    "data.columns"
   ]
  },
  {
   "cell_type": "code",
   "execution_count": 10,
   "metadata": {},
   "outputs": [
    {
     "data": {
      "text/plain": [
       "1    22\n",
       "0    20\n",
       "Name: Lable, dtype: int64"
      ]
     },
     "execution_count": 10,
     "metadata": {},
     "output_type": "execute_result"
    }
   ],
   "source": [
    "data['Lable'].value_counts()"
   ]
  },
  {
   "cell_type": "code",
   "execution_count": 11,
   "metadata": {},
   "outputs": [],
   "source": [
    "y = data['Lable']\n",
    "X = data[['min','charge tym','log10_Var100-10','intergration']]"
   ]
  },
  {
   "cell_type": "code",
   "execution_count": 12,
   "metadata": {},
   "outputs": [],
   "source": [
    "X_train, X_test, y_train, y_test = train_test_split(X, y, test_size=0.33, random_state=4)"
   ]
  },
  {
   "cell_type": "code",
   "execution_count": 13,
   "metadata": {},
   "outputs": [],
   "source": [
    "# X_train = np.array(X_train.values)\n",
    "# X_train = X_train.reshape(-1,1)\n",
    "\n",
    "y_train = np.array(y_train.values)\n",
    "y_train = y_train.reshape(-1,1)\n",
    "\n",
    "# X_test = np.array(X_test.values)\n",
    "# X_test = X_test.reshape(-1,1)\n",
    "\n",
    "y_test = np.array(y_test.values)\n",
    "y_test = y_test.reshape(-1,1)"
   ]
  },
  {
   "cell_type": "code",
   "execution_count": 14,
   "metadata": {},
   "outputs": [
    {
     "name": "stdout",
     "output_type": "stream",
     "text": [
      "X-train shape: (28, 4)\n",
      "Y-train shape: (28, 1)\n",
      "X-test shape: (14, 4)\n",
      "y-test shape: (14, 1)\n"
     ]
    }
   ],
   "source": [
    "print('X-train shape:',X_train.shape)\n",
    "print('Y-train shape:',y_train.shape)\n",
    "print('X-test shape:',X_test.shape)\n",
    "print('y-test shape:',y_test.shape)"
   ]
  },
  {
   "cell_type": "markdown",
   "metadata": {},
   "source": [
    "# Train and fit a logistic regression model on the training set"
   ]
  },
  {
   "cell_type": "code",
   "execution_count": 15,
   "metadata": {},
   "outputs": [],
   "source": [
    "from sklearn.linear_model import LogisticRegression"
   ]
  },
  {
   "cell_type": "code",
   "execution_count": 16,
   "metadata": {},
   "outputs": [
    {
     "name": "stderr",
     "output_type": "stream",
     "text": [
      "C:\\ProgramData\\Anaconda3\\lib\\site-packages\\sklearn\\utils\\validation.py:73: DataConversionWarning: A column-vector y was passed when a 1d array was expected. Please change the shape of y to (n_samples, ), for example using ravel().\n",
      "  return f(**kwargs)\n"
     ]
    },
    {
     "data": {
      "text/plain": [
       "LogisticRegression()"
      ]
     },
     "execution_count": 16,
     "metadata": {},
     "output_type": "execute_result"
    }
   ],
   "source": [
    "logmodel = LogisticRegression()\n",
    "logmodel.fit(X_train,y_train)"
   ]
  },
  {
   "cell_type": "markdown",
   "metadata": {},
   "source": [
    "# Predictions and Evaluations"
   ]
  },
  {
   "cell_type": "code",
   "execution_count": 17,
   "metadata": {},
   "outputs": [],
   "source": [
    "predictions = logmodel.predict(X_test)"
   ]
  },
  {
   "cell_type": "code",
   "execution_count": 18,
   "metadata": {},
   "outputs": [],
   "source": [
    "from sklearn.metrics import classification_report, confusion_matrix"
   ]
  },
  {
   "cell_type": "code",
   "execution_count": 19,
   "metadata": {},
   "outputs": [
    {
     "name": "stdout",
     "output_type": "stream",
     "text": [
      "              precision    recall  f1-score   support\n",
      "\n",
      "           0       0.60      1.00      0.75         6\n",
      "           1       1.00      0.50      0.67         8\n",
      "\n",
      "    accuracy                           0.71        14\n",
      "   macro avg       0.80      0.75      0.71        14\n",
      "weighted avg       0.83      0.71      0.70        14\n",
      "\n"
     ]
    }
   ],
   "source": [
    "print(classification_report(y_test,predictions))"
   ]
  },
  {
   "cell_type": "code",
   "execution_count": 20,
   "metadata": {},
   "outputs": [
    {
     "data": {
      "text/plain": [
       "array([[6, 0],\n",
       "       [4, 4]], dtype=int64)"
      ]
     },
     "execution_count": 20,
     "metadata": {},
     "output_type": "execute_result"
    }
   ],
   "source": [
    "confusion_matrix(y_test,predictions)"
   ]
  },
  {
   "cell_type": "code",
   "execution_count": 21,
   "metadata": {},
   "outputs": [],
   "source": [
    " tn, fp, fn, tp = confusion_matrix(y_test,predictions).ravel()"
   ]
  },
  {
   "cell_type": "code",
   "execution_count": 22,
   "metadata": {},
   "outputs": [
    {
     "name": "stdout",
     "output_type": "stream",
     "text": [
      "6 0 4 4\n"
     ]
    }
   ],
   "source": [
    "print(tn, fp, fn, tp)"
   ]
  },
  {
   "cell_type": "markdown",
   "metadata": {},
   "source": [
    "# Classification Report shows us that this model is having only 71% Accuracy , and Needs to be improved. So We are going for the Fine Tuning the model\n"
   ]
  },
  {
   "cell_type": "markdown",
   "metadata": {},
   "source": [
    "# Model Hyperparameter Tuning"
   ]
  },
  {
   "cell_type": "code",
   "execution_count": 23,
   "metadata": {},
   "outputs": [],
   "source": [
    "from sklearn.pipeline import Pipeline\n",
    "from sklearn.model_selection import GridSearchCV"
   ]
  },
  {
   "cell_type": "code",
   "execution_count": 24,
   "metadata": {},
   "outputs": [],
   "source": [
    "pipe = Pipeline([('classifier' , LogisticRegression())])"
   ]
  },
  {
   "cell_type": "code",
   "execution_count": 25,
   "metadata": {},
   "outputs": [],
   "source": [
    "# Create param grid.\n",
    "\n",
    "param_grid = [\n",
    "    {'classifier' : [LogisticRegression()],\n",
    "     'classifier__penalty' : ['l1', 'l2'],\n",
    "    'classifier__C' : np.logspace(-4, 4, 20),\n",
    "    'classifier__solver' : ['liblinear']}\n",
    "]"
   ]
  },
  {
   "cell_type": "code",
   "execution_count": 26,
   "metadata": {},
   "outputs": [
    {
     "name": "stdout",
     "output_type": "stream",
     "text": [
      "Fitting 10 folds for each of 40 candidates, totalling 400 fits\n"
     ]
    },
    {
     "name": "stderr",
     "output_type": "stream",
     "text": [
      "[Parallel(n_jobs=-1)]: Using backend LokyBackend with 4 concurrent workers.\n",
      "[Parallel(n_jobs=-1)]: Done  44 tasks      | elapsed:    4.0s\n",
      "[Parallel(n_jobs=-1)]: Done 400 out of 400 | elapsed:    5.8s finished\n",
      "C:\\ProgramData\\Anaconda3\\lib\\site-packages\\sklearn\\utils\\validation.py:73: DataConversionWarning: A column-vector y was passed when a 1d array was expected. Please change the shape of y to (n_samples, ), for example using ravel().\n",
      "  return f(**kwargs)\n"
     ]
    },
    {
     "data": {
      "text/plain": [
       "0.9333333333333332"
      ]
     },
     "execution_count": 26,
     "metadata": {},
     "output_type": "execute_result"
    }
   ],
   "source": [
    "clf = GridSearchCV(pipe, param_grid = param_grid, cv = 10, verbose=True, n_jobs=-1)\n",
    "\n",
    "best_clf = clf.fit(X_train, y_train)\n",
    "clf.best_score_"
   ]
  },
  {
   "cell_type": "code",
   "execution_count": 27,
   "metadata": {},
   "outputs": [
    {
     "name": "stdout",
     "output_type": "stream",
     "text": [
      "Fitting 10 folds for each of 40 candidates, totalling 400 fits\n"
     ]
    },
    {
     "name": "stderr",
     "output_type": "stream",
     "text": [
      "[Parallel(n_jobs=-1)]: Using backend LokyBackend with 4 concurrent workers.\n",
      "[Parallel(n_jobs=-1)]: Done 200 tasks      | elapsed:    1.2s\n",
      "[Parallel(n_jobs=-1)]: Done 400 out of 400 | elapsed:    2.2s finished\n",
      "C:\\ProgramData\\Anaconda3\\lib\\site-packages\\sklearn\\utils\\validation.py:73: DataConversionWarning: A column-vector y was passed when a 1d array was expected. Please change the shape of y to (n_samples, ), for example using ravel().\n",
      "  return f(**kwargs)\n"
     ]
    }
   ],
   "source": [
    "best_clf = clf.fit(X_train, y_train)\n"
   ]
  },
  {
   "cell_type": "code",
   "execution_count": 28,
   "metadata": {},
   "outputs": [
    {
     "data": {
      "text/plain": [
       "0.9333333333333332"
      ]
     },
     "execution_count": 28,
     "metadata": {},
     "output_type": "execute_result"
    }
   ],
   "source": [
    "clf.best_score_"
   ]
  },
  {
   "cell_type": "code",
   "execution_count": 29,
   "metadata": {},
   "outputs": [],
   "source": [
    "clf.best_params_\n",
    "predictions = best_clf.predict(X_test)"
   ]
  },
  {
   "cell_type": "markdown",
   "metadata": {},
   "source": [
    "# Predictions and Evaluations for the Best Model"
   ]
  },
  {
   "cell_type": "code",
   "execution_count": 30,
   "metadata": {},
   "outputs": [],
   "source": [
    "predictions = best_clf.predict(X_test)"
   ]
  },
  {
   "cell_type": "code",
   "execution_count": 31,
   "metadata": {},
   "outputs": [],
   "source": [
    "from sklearn.metrics import classification_report, confusion_matrix"
   ]
  },
  {
   "cell_type": "code",
   "execution_count": 32,
   "metadata": {},
   "outputs": [
    {
     "name": "stdout",
     "output_type": "stream",
     "text": [
      "              precision    recall  f1-score   support\n",
      "\n",
      "           0       1.00      1.00      1.00         6\n",
      "           1       1.00      1.00      1.00         8\n",
      "\n",
      "    accuracy                           1.00        14\n",
      "   macro avg       1.00      1.00      1.00        14\n",
      "weighted avg       1.00      1.00      1.00        14\n",
      "\n"
     ]
    }
   ],
   "source": [
    "print(classification_report(y_test,predictions))"
   ]
  },
  {
   "cell_type": "code",
   "execution_count": 33,
   "metadata": {},
   "outputs": [
    {
     "data": {
      "text/plain": [
       "array([[6, 0],\n",
       "       [0, 8]], dtype=int64)"
      ]
     },
     "execution_count": 33,
     "metadata": {},
     "output_type": "execute_result"
    }
   ],
   "source": [
    "confusion_matrix(y_test,predictions)"
   ]
  },
  {
   "cell_type": "code",
   "execution_count": 34,
   "metadata": {},
   "outputs": [],
   "source": [
    " tn, fp, fn, tp = confusion_matrix(y_test,predictions).ravel()"
   ]
  },
  {
   "cell_type": "code",
   "execution_count": 35,
   "metadata": {},
   "outputs": [
    {
     "name": "stdout",
     "output_type": "stream",
     "text": [
      "6 0 0 8\n"
     ]
    }
   ],
   "source": [
    "\n",
    "\n",
    "print(tn, fp, fn, tp)"
   ]
  },
  {
   "cell_type": "markdown",
   "metadata": {},
   "source": [
    " Classification Report shows us that this model is having only 100% Accuracy. Which is improved one ."
   ]
  },
  {
   "cell_type": "markdown",
   "metadata": {},
   "source": [
    "# Saving the Best Model"
   ]
  },
  {
   "cell_type": "code",
   "execution_count": 36,
   "metadata": {},
   "outputs": [],
   "source": [
    "import pickle\n",
    "filename = 'Basic_Classifier.sav'\n",
    "pickle.dump(clf, open(filename, 'wb'))\n",
    " "
   ]
  },
  {
   "cell_type": "markdown",
   "metadata": {},
   "source": [
    "# Testing the model on Primary test data "
   ]
  },
  {
   "cell_type": "code",
   "execution_count": 37,
   "metadata": {},
   "outputs": [],
   "source": [
    "loaded_model = pickle.load(open(filename, 'rb'))\n"
   ]
  },
  {
   "cell_type": "code",
   "execution_count": null,
   "metadata": {},
   "outputs": [],
   "source": []
  },
  {
   "cell_type": "code",
   "execution_count": 38,
   "metadata": {},
   "outputs": [],
   "source": [
    "prim_test = pd.read_csv(\"PRIMARY_1_Combo.csv\")"
   ]
  },
  {
   "cell_type": "code",
   "execution_count": 39,
   "metadata": {},
   "outputs": [
    {
     "data": {
      "text/html": [
       "<div>\n",
       "<style scoped>\n",
       "    .dataframe tbody tr th:only-of-type {\n",
       "        vertical-align: middle;\n",
       "    }\n",
       "\n",
       "    .dataframe tbody tr th {\n",
       "        vertical-align: top;\n",
       "    }\n",
       "\n",
       "    .dataframe thead th {\n",
       "        text-align: right;\n",
       "    }\n",
       "</style>\n",
       "<table border=\"1\" class=\"dataframe\">\n",
       "  <thead>\n",
       "    <tr style=\"text-align: right;\">\n",
       "      <th></th>\n",
       "      <th>Unnamed: 0</th>\n",
       "      <th>intergration</th>\n",
       "      <th>Life Cy</th>\n",
       "      <th>var 100_10</th>\n",
       "      <th>min</th>\n",
       "      <th>kurtosis</th>\n",
       "      <th>skewness</th>\n",
       "      <th>intergration.1</th>\n",
       "      <th>charge tym</th>\n",
       "      <th>Slope</th>\n",
       "      <th>Intercept</th>\n",
       "      <th>Q_d</th>\n",
       "      <th>IR_diff</th>\n",
       "      <th>IR_min</th>\n",
       "      <th>Dis_max</th>\n",
       "      <th>log10_Var100-10</th>\n",
       "    </tr>\n",
       "  </thead>\n",
       "  <tbody>\n",
       "    <tr>\n",
       "      <th>37</th>\n",
       "      <td>37</td>\n",
       "      <td>475802.9762</td>\n",
       "      <td>531</td>\n",
       "      <td>0.000380</td>\n",
       "      <td>-0.051100</td>\n",
       "      <td>-1.554343</td>\n",
       "      <td>-0.077730</td>\n",
       "      <td>1982476.207</td>\n",
       "      <td>2746.51786</td>\n",
       "      <td>-0.000020</td>\n",
       "      <td>1.082269</td>\n",
       "      <td>0.003291</td>\n",
       "      <td>-0.000465</td>\n",
       "      <td>0.016944</td>\n",
       "      <td>1.076552</td>\n",
       "      <td>-3.419867</td>\n",
       "    </tr>\n",
       "    <tr>\n",
       "      <th>38</th>\n",
       "      <td>38</td>\n",
       "      <td>475541.6024</td>\n",
       "      <td>493</td>\n",
       "      <td>0.000342</td>\n",
       "      <td>-0.050735</td>\n",
       "      <td>-1.459909</td>\n",
       "      <td>-0.094035</td>\n",
       "      <td>1778546.677</td>\n",
       "      <td>2316.25932</td>\n",
       "      <td>0.000012</td>\n",
       "      <td>1.082518</td>\n",
       "      <td>0.004592</td>\n",
       "      <td>-0.000083</td>\n",
       "      <td>0.016998</td>\n",
       "      <td>1.078024</td>\n",
       "      <td>-3.466567</td>\n",
       "    </tr>\n",
       "    <tr>\n",
       "      <th>39</th>\n",
       "      <td>39</td>\n",
       "      <td>475302.7623</td>\n",
       "      <td>480</td>\n",
       "      <td>0.000471</td>\n",
       "      <td>-0.059763</td>\n",
       "      <td>-1.416686</td>\n",
       "      <td>-0.100171</td>\n",
       "      <td>1717659.431</td>\n",
       "      <td>2795.14656</td>\n",
       "      <td>0.000022</td>\n",
       "      <td>1.075214</td>\n",
       "      <td>0.005473</td>\n",
       "      <td>0.000098</td>\n",
       "      <td>0.017409</td>\n",
       "      <td>1.070887</td>\n",
       "      <td>-3.326993</td>\n",
       "    </tr>\n",
       "    <tr>\n",
       "      <th>40</th>\n",
       "      <td>40</td>\n",
       "      <td>463790.4909</td>\n",
       "      <td>450</td>\n",
       "      <td>0.000576</td>\n",
       "      <td>-0.063533</td>\n",
       "      <td>-1.642806</td>\n",
       "      <td>-0.141902</td>\n",
       "      <td>2080059.980</td>\n",
       "      <td>2871.33268</td>\n",
       "      <td>0.000029</td>\n",
       "      <td>1.077632</td>\n",
       "      <td>0.006906</td>\n",
       "      <td>0.000157</td>\n",
       "      <td>0.017552</td>\n",
       "      <td>1.072614</td>\n",
       "      <td>-3.239665</td>\n",
       "    </tr>\n",
       "    <tr>\n",
       "      <th>41</th>\n",
       "      <td>41</td>\n",
       "      <td>463408.8565</td>\n",
       "      <td>746</td>\n",
       "      <td>0.000150</td>\n",
       "      <td>-0.042114</td>\n",
       "      <td>-0.702812</td>\n",
       "      <td>-0.402256</td>\n",
       "      <td>1607412.934</td>\n",
       "      <td>2267.54104</td>\n",
       "      <td>-0.000010</td>\n",
       "      <td>1.049389</td>\n",
       "      <td>0.004885</td>\n",
       "      <td>-0.000832</td>\n",
       "      <td>0.017026</td>\n",
       "      <td>1.042137</td>\n",
       "      <td>-3.822698</td>\n",
       "    </tr>\n",
       "  </tbody>\n",
       "</table>\n",
       "</div>"
      ],
      "text/plain": [
       "    Unnamed: 0  intergration  Life Cy  var 100_10       min  kurtosis  \\\n",
       "37          37   475802.9762      531    0.000380 -0.051100 -1.554343   \n",
       "38          38   475541.6024      493    0.000342 -0.050735 -1.459909   \n",
       "39          39   475302.7623      480    0.000471 -0.059763 -1.416686   \n",
       "40          40   463790.4909      450    0.000576 -0.063533 -1.642806   \n",
       "41          41   463408.8565      746    0.000150 -0.042114 -0.702812   \n",
       "\n",
       "    skewness  intergration.1  charge tym     Slope  Intercept       Q_d  \\\n",
       "37 -0.077730     1982476.207  2746.51786 -0.000020   1.082269  0.003291   \n",
       "38 -0.094035     1778546.677  2316.25932  0.000012   1.082518  0.004592   \n",
       "39 -0.100171     1717659.431  2795.14656  0.000022   1.075214  0.005473   \n",
       "40 -0.141902     2080059.980  2871.33268  0.000029   1.077632  0.006906   \n",
       "41 -0.402256     1607412.934  2267.54104 -0.000010   1.049389  0.004885   \n",
       "\n",
       "     IR_diff    IR_min   Dis_max  log10_Var100-10  \n",
       "37 -0.000465  0.016944  1.076552        -3.419867  \n",
       "38 -0.000083  0.016998  1.078024        -3.466567  \n",
       "39  0.000098  0.017409  1.070887        -3.326993  \n",
       "40  0.000157  0.017552  1.072614        -3.239665  \n",
       "41 -0.000832  0.017026  1.042137        -3.822698  "
      ]
     },
     "execution_count": 39,
     "metadata": {},
     "output_type": "execute_result"
    }
   ],
   "source": [
    "prim_test.tail()"
   ]
  },
  {
   "cell_type": "code",
   "execution_count": 40,
   "metadata": {},
   "outputs": [],
   "source": [
    "Life = prim_test['Life Cy'].values\n",
    "Lable = []\n",
    "for i in Life :\n",
    "    if  i < 550:\n",
    "        Lable.append(0)\n",
    "    else :\n",
    "        Lable.append(1)"
   ]
  },
  {
   "cell_type": "code",
   "execution_count": 41,
   "metadata": {},
   "outputs": [],
   "source": [
    "prim_test['Lable'] = Lable"
   ]
  },
  {
   "cell_type": "code",
   "execution_count": 42,
   "metadata": {},
   "outputs": [],
   "source": [
    "\n",
    "y = prim_test['Lable']\n",
    "X = prim_test[['min','charge tym','log10_Var100-10','intergration']]"
   ]
  },
  {
   "cell_type": "code",
   "execution_count": 43,
   "metadata": {},
   "outputs": [
    {
     "data": {
      "text/plain": [
       "42"
      ]
     },
     "execution_count": 43,
     "metadata": {},
     "output_type": "execute_result"
    }
   ],
   "source": [
    "len(X)"
   ]
  },
  {
   "cell_type": "code",
   "execution_count": 44,
   "metadata": {},
   "outputs": [],
   "source": [
    "y= np.array(y.values)\n",
    "y = y.reshape(-1,1)"
   ]
  },
  {
   "cell_type": "code",
   "execution_count": 45,
   "metadata": {},
   "outputs": [
    {
     "data": {
      "text/plain": [
       "(42, 4)"
      ]
     },
     "execution_count": 45,
     "metadata": {},
     "output_type": "execute_result"
    }
   ],
   "source": [
    "X.shape"
   ]
  },
  {
   "cell_type": "code",
   "execution_count": 46,
   "metadata": {},
   "outputs": [
    {
     "data": {
      "text/plain": [
       "(42, 1)"
      ]
     },
     "execution_count": 46,
     "metadata": {},
     "output_type": "execute_result"
    }
   ],
   "source": [
    "y.shape"
   ]
  },
  {
   "cell_type": "code",
   "execution_count": 47,
   "metadata": {},
   "outputs": [
    {
     "name": "stdout",
     "output_type": "stream",
     "text": [
      "0.8809523809523809\n"
     ]
    }
   ],
   "source": [
    "result = loaded_model.score(X,y)\n",
    "print(result)"
   ]
  },
  {
   "cell_type": "code",
   "execution_count": 48,
   "metadata": {},
   "outputs": [
    {
     "name": "stdout",
     "output_type": "stream",
     "text": [
      "              precision    recall  f1-score   support\n",
      "\n",
      "           0       0.86      0.90      0.88        20\n",
      "           1       0.90      0.86      0.88        22\n",
      "\n",
      "    accuracy                           0.88        42\n",
      "   macro avg       0.88      0.88      0.88        42\n",
      "weighted avg       0.88      0.88      0.88        42\n",
      "\n",
      "[[18  2]\n",
      " [ 3 19]]\n"
     ]
    }
   ],
   "source": [
    "predictions = loaded_model.predict(X)\n",
    "from sklearn.metrics import classification_report, confusion_matrix\n",
    "print(classification_report(y,predictions))\n",
    "print(confusion_matrix(y,predictions))\n"
   ]
  },
  {
   "cell_type": "code",
   "execution_count": 49,
   "metadata": {},
   "outputs": [
    {
     "name": "stdout",
     "output_type": "stream",
     "text": [
      "18 2 3 19\n"
     ]
    }
   ],
   "source": [
    "tn, fp, fn, tp = confusion_matrix(y,predictions).ravel()\n",
    "\n",
    "print(tn, fp, fn, tp)"
   ]
  },
  {
   "cell_type": "markdown",
   "metadata": {},
   "source": [
    "# Testing the model on Secondary test data "
   ]
  },
  {
   "cell_type": "code",
   "execution_count": 50,
   "metadata": {},
   "outputs": [],
   "source": [
    "Secondary_test = pd.read_csv(\"SECONDARY_1_Combo.csv\")"
   ]
  },
  {
   "cell_type": "code",
   "execution_count": 51,
   "metadata": {},
   "outputs": [
    {
     "data": {
      "text/html": [
       "<div>\n",
       "<style scoped>\n",
       "    .dataframe tbody tr th:only-of-type {\n",
       "        vertical-align: middle;\n",
       "    }\n",
       "\n",
       "    .dataframe tbody tr th {\n",
       "        vertical-align: top;\n",
       "    }\n",
       "\n",
       "    .dataframe thead th {\n",
       "        text-align: right;\n",
       "    }\n",
       "</style>\n",
       "<table border=\"1\" class=\"dataframe\">\n",
       "  <thead>\n",
       "    <tr style=\"text-align: right;\">\n",
       "      <th></th>\n",
       "      <th>Unnamed: 0</th>\n",
       "      <th>Life Cy</th>\n",
       "      <th>var 100_10</th>\n",
       "      <th>min</th>\n",
       "      <th>kurtosis</th>\n",
       "      <th>skewness</th>\n",
       "      <th>intergration</th>\n",
       "      <th>charge tym</th>\n",
       "      <th>Slope</th>\n",
       "      <th>Intercept</th>\n",
       "      <th>Q_d</th>\n",
       "      <th>IR_diff</th>\n",
       "      <th>IR_min</th>\n",
       "      <th>Dis_max</th>\n",
       "      <th>log10_Var100-10</th>\n",
       "      <th>Intergration</th>\n",
       "    </tr>\n",
       "  </thead>\n",
       "  <tbody>\n",
       "    <tr>\n",
       "      <th>41</th>\n",
       "      <td>41</td>\n",
       "      <td>786</td>\n",
       "      <td>0.000067</td>\n",
       "      <td>-0.025526</td>\n",
       "      <td>-0.947689</td>\n",
       "      <td>-0.404798</td>\n",
       "      <td>8978686.796</td>\n",
       "      <td>2027.63660</td>\n",
       "      <td>9.730000e-06</td>\n",
       "      <td>1.053878</td>\n",
       "      <td>0.003631</td>\n",
       "      <td>-0.000175</td>\n",
       "      <td>0.017007</td>\n",
       "      <td>1.050522</td>\n",
       "      <td>-4.174620</td>\n",
       "      <td>369576.2146</td>\n",
       "    </tr>\n",
       "    <tr>\n",
       "      <th>42</th>\n",
       "      <td>42</td>\n",
       "      <td>1642</td>\n",
       "      <td>0.000051</td>\n",
       "      <td>-0.008815</td>\n",
       "      <td>3.112733</td>\n",
       "      <td>2.008419</td>\n",
       "      <td>9438363.948</td>\n",
       "      <td>2322.95486</td>\n",
       "      <td>1.810000e-06</td>\n",
       "      <td>1.069428</td>\n",
       "      <td>0.002045</td>\n",
       "      <td>-0.000570</td>\n",
       "      <td>0.015754</td>\n",
       "      <td>1.066920</td>\n",
       "      <td>-4.296571</td>\n",
       "      <td>390970.1031</td>\n",
       "    </tr>\n",
       "    <tr>\n",
       "      <th>43</th>\n",
       "      <td>43</td>\n",
       "      <td>1046</td>\n",
       "      <td>0.000048</td>\n",
       "      <td>-0.013563</td>\n",
       "      <td>0.797698</td>\n",
       "      <td>0.874571</td>\n",
       "      <td>9451800.893</td>\n",
       "      <td>2083.36022</td>\n",
       "      <td>3.040000e-06</td>\n",
       "      <td>1.072729</td>\n",
       "      <td>0.002233</td>\n",
       "      <td>-0.000212</td>\n",
       "      <td>0.015550</td>\n",
       "      <td>1.070185</td>\n",
       "      <td>-4.316224</td>\n",
       "      <td>390121.3509</td>\n",
       "    </tr>\n",
       "    <tr>\n",
       "      <th>44</th>\n",
       "      <td>44</td>\n",
       "      <td>940</td>\n",
       "      <td>0.000082</td>\n",
       "      <td>-0.028525</td>\n",
       "      <td>-1.085400</td>\n",
       "      <td>-0.429937</td>\n",
       "      <td>9298651.136</td>\n",
       "      <td>2270.66542</td>\n",
       "      <td>4.690000e-06</td>\n",
       "      <td>1.073078</td>\n",
       "      <td>0.003208</td>\n",
       "      <td>-0.000112</td>\n",
       "      <td>0.015517</td>\n",
       "      <td>1.069720</td>\n",
       "      <td>-4.084083</td>\n",
       "      <td>381718.8066</td>\n",
       "    </tr>\n",
       "    <tr>\n",
       "      <th>45</th>\n",
       "      <td>45</td>\n",
       "      <td>1801</td>\n",
       "      <td>0.000039</td>\n",
       "      <td>-0.019439</td>\n",
       "      <td>-1.089627</td>\n",
       "      <td>-0.171307</td>\n",
       "      <td>9162898.727</td>\n",
       "      <td>1143.87940</td>\n",
       "      <td>-1.260000e-07</td>\n",
       "      <td>1.071472</td>\n",
       "      <td>0.001577</td>\n",
       "      <td>-0.000090</td>\n",
       "      <td>0.015557</td>\n",
       "      <td>1.069549</td>\n",
       "      <td>-4.406050</td>\n",
       "      <td>382301.0406</td>\n",
       "    </tr>\n",
       "  </tbody>\n",
       "</table>\n",
       "</div>"
      ],
      "text/plain": [
       "    Unnamed: 0  Life Cy  var 100_10       min  kurtosis  skewness  \\\n",
       "41          41      786    0.000067 -0.025526 -0.947689 -0.404798   \n",
       "42          42     1642    0.000051 -0.008815  3.112733  2.008419   \n",
       "43          43     1046    0.000048 -0.013563  0.797698  0.874571   \n",
       "44          44      940    0.000082 -0.028525 -1.085400 -0.429937   \n",
       "45          45     1801    0.000039 -0.019439 -1.089627 -0.171307   \n",
       "\n",
       "    intergration  charge tym         Slope  Intercept       Q_d   IR_diff  \\\n",
       "41   8978686.796  2027.63660  9.730000e-06   1.053878  0.003631 -0.000175   \n",
       "42   9438363.948  2322.95486  1.810000e-06   1.069428  0.002045 -0.000570   \n",
       "43   9451800.893  2083.36022  3.040000e-06   1.072729  0.002233 -0.000212   \n",
       "44   9298651.136  2270.66542  4.690000e-06   1.073078  0.003208 -0.000112   \n",
       "45   9162898.727  1143.87940 -1.260000e-07   1.071472  0.001577 -0.000090   \n",
       "\n",
       "      IR_min   Dis_max  log10_Var100-10  Intergration  \n",
       "41  0.017007  1.050522        -4.174620   369576.2146  \n",
       "42  0.015754  1.066920        -4.296571   390970.1031  \n",
       "43  0.015550  1.070185        -4.316224   390121.3509  \n",
       "44  0.015517  1.069720        -4.084083   381718.8066  \n",
       "45  0.015557  1.069549        -4.406050   382301.0406  "
      ]
     },
     "execution_count": 51,
     "metadata": {},
     "output_type": "execute_result"
    }
   ],
   "source": [
    "Secondary_test.tail()"
   ]
  },
  {
   "cell_type": "code",
   "execution_count": null,
   "metadata": {},
   "outputs": [],
   "source": []
  },
  {
   "cell_type": "code",
   "execution_count": 52,
   "metadata": {},
   "outputs": [],
   "source": [
    "\n",
    "Life = Secondary_test['Life Cy'].values\n",
    "Lable = []\n",
    "for i in Life :\n",
    "    if  i < 550:\n",
    "        Lable.append(0)\n",
    "    else :\n",
    "        Lable.append(1)\n",
    "Secondary_test['Lable'] = Lable        "
   ]
  },
  {
   "cell_type": "code",
   "execution_count": 53,
   "metadata": {},
   "outputs": [],
   "source": [
    "Secondary_test['Lable'] = Lable"
   ]
  },
  {
   "cell_type": "code",
   "execution_count": 60,
   "metadata": {},
   "outputs": [],
   "source": [
    "y = Secondary_test['Lable']\n",
    "X = Secondary_test[['min','charge tym','log10_Var100-10','Intergration']]\n"
   ]
  },
  {
   "cell_type": "code",
   "execution_count": 61,
   "metadata": {},
   "outputs": [],
   "source": [
    "#y = Secondary_test['Lable']\n",
    "#X = Secondary_test[['min','charge tym','log10_Var100-10','intergration']]\n"
   ]
  },
  {
   "cell_type": "code",
   "execution_count": 62,
   "metadata": {},
   "outputs": [
    {
     "name": "stdout",
     "output_type": "stream",
     "text": [
      "X-train shape: (46, 4)\n",
      "Y-train shape: (46, 1)\n"
     ]
    }
   ],
   "source": [
    "\n",
    "\n",
    "\n",
    "y = np.array(y.values)\n",
    "y = y.reshape(-1,1)\n",
    "\n",
    "print('X-train shape:',X.shape)\n",
    "print('Y-train shape:',y.shape)\n"
   ]
  },
  {
   "cell_type": "code",
   "execution_count": 63,
   "metadata": {},
   "outputs": [
    {
     "name": "stdout",
     "output_type": "stream",
     "text": [
      "0.9782608695652174\n"
     ]
    }
   ],
   "source": [
    "result = loaded_model.score(X,y)\n",
    "print(result)"
   ]
  },
  {
   "cell_type": "code",
   "execution_count": 64,
   "metadata": {},
   "outputs": [],
   "source": [
    "predictions = loaded_model.predict(X)"
   ]
  },
  {
   "cell_type": "code",
   "execution_count": 65,
   "metadata": {},
   "outputs": [
    {
     "name": "stdout",
     "output_type": "stream",
     "text": [
      "              precision    recall  f1-score   support\n",
      "\n",
      "           0       0.00      0.00      0.00         1\n",
      "           1       0.98      1.00      0.99        45\n",
      "\n",
      "    accuracy                           0.98        46\n",
      "   macro avg       0.49      0.50      0.49        46\n",
      "weighted avg       0.96      0.98      0.97        46\n",
      "\n",
      "[[ 0  1]\n",
      " [ 0 45]]\n"
     ]
    },
    {
     "name": "stderr",
     "output_type": "stream",
     "text": [
      "C:\\ProgramData\\Anaconda3\\lib\\site-packages\\sklearn\\metrics\\_classification.py:1221: UndefinedMetricWarning: Precision and F-score are ill-defined and being set to 0.0 in labels with no predicted samples. Use `zero_division` parameter to control this behavior.\n",
      "  _warn_prf(average, modifier, msg_start, len(result))\n",
      "C:\\ProgramData\\Anaconda3\\lib\\site-packages\\sklearn\\metrics\\_classification.py:1221: UndefinedMetricWarning: Precision and F-score are ill-defined and being set to 0.0 in labels with no predicted samples. Use `zero_division` parameter to control this behavior.\n",
      "  _warn_prf(average, modifier, msg_start, len(result))\n",
      "C:\\ProgramData\\Anaconda3\\lib\\site-packages\\sklearn\\metrics\\_classification.py:1221: UndefinedMetricWarning: Precision and F-score are ill-defined and being set to 0.0 in labels with no predicted samples. Use `zero_division` parameter to control this behavior.\n",
      "  _warn_prf(average, modifier, msg_start, len(result))\n"
     ]
    }
   ],
   "source": [
    "predictions = loaded_model.predict(X)\n",
    "from sklearn.metrics import classification_report, confusion_matrix\n",
    "print(classification_report(y,predictions))\n",
    "print(confusion_matrix(y,predictions))\n",
    "\n"
   ]
  },
  {
   "cell_type": "code",
   "execution_count": 66,
   "metadata": {},
   "outputs": [
    {
     "name": "stdout",
     "output_type": "stream",
     "text": [
      "0 1 0 45\n"
     ]
    }
   ],
   "source": [
    "tn, fp, fn, tp = confusion_matrix(y,predictions).ravel()\n",
    "\n",
    "print(tn, fp, fn, tp)"
   ]
  },
  {
   "cell_type": "markdown",
   "metadata": {},
   "source": [
    "# Combo file"
   ]
  },
  {
   "cell_type": "code",
   "execution_count": 67,
   "metadata": {},
   "outputs": [],
   "source": [
    "test = pd.read_csv(\"Ptest_1_file.csv\")"
   ]
  },
  {
   "cell_type": "code",
   "execution_count": 70,
   "metadata": {},
   "outputs": [
    {
     "data": {
      "text/html": [
       "<div>\n",
       "<style scoped>\n",
       "    .dataframe tbody tr th:only-of-type {\n",
       "        vertical-align: middle;\n",
       "    }\n",
       "\n",
       "    .dataframe tbody tr th {\n",
       "        vertical-align: top;\n",
       "    }\n",
       "\n",
       "    .dataframe thead th {\n",
       "        text-align: right;\n",
       "    }\n",
       "</style>\n",
       "<table border=\"1\" class=\"dataframe\">\n",
       "  <thead>\n",
       "    <tr style=\"text-align: right;\">\n",
       "      <th></th>\n",
       "      <th>Unnamed: 0</th>\n",
       "      <th>Unnamed: 0.1</th>\n",
       "      <th>intergration</th>\n",
       "      <th>Life Cy</th>\n",
       "      <th>var 100_10</th>\n",
       "      <th>min</th>\n",
       "      <th>kurtosis</th>\n",
       "      <th>skewness</th>\n",
       "      <th>intergration.1</th>\n",
       "      <th>charge tym</th>\n",
       "      <th>Slope</th>\n",
       "      <th>Intercept</th>\n",
       "      <th>Q_d</th>\n",
       "      <th>IR_diff</th>\n",
       "      <th>IR_min</th>\n",
       "      <th>Dis_max</th>\n",
       "      <th>log10_Var100-10</th>\n",
       "    </tr>\n",
       "  </thead>\n",
       "  <tbody>\n",
       "    <tr>\n",
       "      <th>0</th>\n",
       "      <td>24</td>\n",
       "      <td>24</td>\n",
       "      <td>480233.8779</td>\n",
       "      <td>492</td>\n",
       "      <td>0.000567</td>\n",
       "      <td>-0.069141</td>\n",
       "      <td>-1.514916</td>\n",
       "      <td>0.069258</td>\n",
       "      <td>1182200.721</td>\n",
       "      <td>2409.43116</td>\n",
       "      <td>-0.000148</td>\n",
       "      <td>1.076502</td>\n",
       "      <td>-0.011245</td>\n",
       "      <td>-0.000998</td>\n",
       "      <td>0.016134</td>\n",
       "      <td>1.071276</td>\n",
       "      <td>-3.246341</td>\n",
       "    </tr>\n",
       "    <tr>\n",
       "      <th>1</th>\n",
       "      <td>37</td>\n",
       "      <td>37</td>\n",
       "      <td>475802.9762</td>\n",
       "      <td>531</td>\n",
       "      <td>0.000380</td>\n",
       "      <td>-0.051100</td>\n",
       "      <td>-1.554343</td>\n",
       "      <td>-0.077730</td>\n",
       "      <td>1982476.207</td>\n",
       "      <td>2746.51786</td>\n",
       "      <td>-0.000020</td>\n",
       "      <td>1.082269</td>\n",
       "      <td>0.003291</td>\n",
       "      <td>-0.000465</td>\n",
       "      <td>0.016944</td>\n",
       "      <td>1.076552</td>\n",
       "      <td>-3.419867</td>\n",
       "    </tr>\n",
       "    <tr>\n",
       "      <th>2</th>\n",
       "      <td>38</td>\n",
       "      <td>38</td>\n",
       "      <td>475541.6024</td>\n",
       "      <td>493</td>\n",
       "      <td>0.000342</td>\n",
       "      <td>-0.050735</td>\n",
       "      <td>-1.459909</td>\n",
       "      <td>-0.094035</td>\n",
       "      <td>1778546.677</td>\n",
       "      <td>2316.25932</td>\n",
       "      <td>0.000012</td>\n",
       "      <td>1.082518</td>\n",
       "      <td>0.004592</td>\n",
       "      <td>-0.000083</td>\n",
       "      <td>0.016998</td>\n",
       "      <td>1.078024</td>\n",
       "      <td>-3.466567</td>\n",
       "    </tr>\n",
       "    <tr>\n",
       "      <th>3</th>\n",
       "      <td>39</td>\n",
       "      <td>39</td>\n",
       "      <td>475302.7623</td>\n",
       "      <td>480</td>\n",
       "      <td>0.000471</td>\n",
       "      <td>-0.059763</td>\n",
       "      <td>-1.416686</td>\n",
       "      <td>-0.100171</td>\n",
       "      <td>1717659.431</td>\n",
       "      <td>2795.14656</td>\n",
       "      <td>0.000022</td>\n",
       "      <td>1.075214</td>\n",
       "      <td>0.005473</td>\n",
       "      <td>0.000098</td>\n",
       "      <td>0.017409</td>\n",
       "      <td>1.070887</td>\n",
       "      <td>-3.326993</td>\n",
       "    </tr>\n",
       "    <tr>\n",
       "      <th>4</th>\n",
       "      <td>40</td>\n",
       "      <td>40</td>\n",
       "      <td>463790.4909</td>\n",
       "      <td>450</td>\n",
       "      <td>0.000576</td>\n",
       "      <td>-0.063533</td>\n",
       "      <td>-1.642806</td>\n",
       "      <td>-0.141902</td>\n",
       "      <td>2080059.980</td>\n",
       "      <td>2871.33268</td>\n",
       "      <td>0.000029</td>\n",
       "      <td>1.077632</td>\n",
       "      <td>0.006906</td>\n",
       "      <td>0.000157</td>\n",
       "      <td>0.017552</td>\n",
       "      <td>1.072614</td>\n",
       "      <td>-3.239665</td>\n",
       "    </tr>\n",
       "  </tbody>\n",
       "</table>\n",
       "</div>"
      ],
      "text/plain": [
       "   Unnamed: 0  Unnamed: 0.1  intergration  Life Cy  var 100_10       min  \\\n",
       "0          24            24   480233.8779      492    0.000567 -0.069141   \n",
       "1          37            37   475802.9762      531    0.000380 -0.051100   \n",
       "2          38            38   475541.6024      493    0.000342 -0.050735   \n",
       "3          39            39   475302.7623      480    0.000471 -0.059763   \n",
       "4          40            40   463790.4909      450    0.000576 -0.063533   \n",
       "\n",
       "   kurtosis  skewness  intergration.1  charge tym     Slope  Intercept  \\\n",
       "0 -1.514916  0.069258     1182200.721  2409.43116 -0.000148   1.076502   \n",
       "1 -1.554343 -0.077730     1982476.207  2746.51786 -0.000020   1.082269   \n",
       "2 -1.459909 -0.094035     1778546.677  2316.25932  0.000012   1.082518   \n",
       "3 -1.416686 -0.100171     1717659.431  2795.14656  0.000022   1.075214   \n",
       "4 -1.642806 -0.141902     2080059.980  2871.33268  0.000029   1.077632   \n",
       "\n",
       "        Q_d   IR_diff    IR_min   Dis_max  log10_Var100-10  \n",
       "0 -0.011245 -0.000998  0.016134  1.071276        -3.246341  \n",
       "1  0.003291 -0.000465  0.016944  1.076552        -3.419867  \n",
       "2  0.004592 -0.000083  0.016998  1.078024        -3.466567  \n",
       "3  0.005473  0.000098  0.017409  1.070887        -3.326993  \n",
       "4  0.006906  0.000157  0.017552  1.072614        -3.239665  "
      ]
     },
     "execution_count": 70,
     "metadata": {},
     "output_type": "execute_result"
    }
   ],
   "source": [
    "test.head()"
   ]
  },
  {
   "cell_type": "code",
   "execution_count": 72,
   "metadata": {},
   "outputs": [],
   "source": [
    "#del test['log10_min']\n",
    "Life = test['Life Cy'].values\n",
    "Lable = []\n",
    "for i in Life :\n",
    "    if  i < 550:\n",
    "        Lable.append(0)\n",
    "    else :\n",
    "        Lable.append(1)\n",
    "test['Lable'] = Lable"
   ]
  },
  {
   "cell_type": "code",
   "execution_count": 73,
   "metadata": {},
   "outputs": [],
   "source": [
    "y = test['Lable']\n",
    "X = test[['min','charge tym','log10_Var100-10','intergration']]"
   ]
  },
  {
   "cell_type": "code",
   "execution_count": 74,
   "metadata": {},
   "outputs": [
    {
     "name": "stdout",
     "output_type": "stream",
     "text": [
      "X-train shape: (5, 4)\n",
      "Y-train shape: (5, 1)\n"
     ]
    }
   ],
   "source": [
    "y = np.array(y.values)\n",
    "y = y.reshape(-1,1)\n",
    "print('X-train shape:',X.shape)\n",
    "print('Y-train shape:',y.shape)"
   ]
  },
  {
   "cell_type": "code",
   "execution_count": 75,
   "metadata": {},
   "outputs": [
    {
     "name": "stdout",
     "output_type": "stream",
     "text": [
      "1.0\n"
     ]
    }
   ],
   "source": [
    "result = loaded_model.score(X,y)\n",
    "print(result)"
   ]
  },
  {
   "cell_type": "code",
   "execution_count": 76,
   "metadata": {},
   "outputs": [
    {
     "name": "stdout",
     "output_type": "stream",
     "text": [
      "              precision    recall  f1-score   support\n",
      "\n",
      "           0       1.00      1.00      1.00         5\n",
      "\n",
      "    accuracy                           1.00         5\n",
      "   macro avg       1.00      1.00      1.00         5\n",
      "weighted avg       1.00      1.00      1.00         5\n",
      "\n",
      "[[5]]\n"
     ]
    }
   ],
   "source": [
    "predictions = loaded_model.predict(X)\n",
    "from sklearn.metrics import classification_report, confusion_matrix\n",
    "print(classification_report(y,predictions))\n",
    "print(confusion_matrix(y,predictions))\n"
   ]
  },
  {
   "cell_type": "code",
   "execution_count": 90,
   "metadata": {},
   "outputs": [],
   "source": []
  },
  {
   "cell_type": "code",
   "execution_count": 98,
   "metadata": {},
   "outputs": [],
   "source": [
    "y = y.ravel()"
   ]
  },
  {
   "cell_type": "code",
   "execution_count": 100,
   "metadata": {},
   "outputs": [
    {
     "data": {
      "text/plain": [
       "0"
      ]
     },
     "execution_count": 100,
     "metadata": {},
     "output_type": "execute_result"
    }
   ],
   "source": [
    "y[0]"
   ]
  },
  {
   "cell_type": "code",
   "execution_count": 77,
   "metadata": {},
   "outputs": [
    {
     "ename": "ValueError",
     "evalue": "not enough values to unpack (expected 4, got 1)",
     "output_type": "error",
     "traceback": [
      "\u001b[1;31m---------------------------------------------------------------------------\u001b[0m",
      "\u001b[1;31mValueError\u001b[0m                                Traceback (most recent call last)",
      "\u001b[1;32m<ipython-input-77-6aa630aef9d2>\u001b[0m in \u001b[0;36m<module>\u001b[1;34m\u001b[0m\n\u001b[1;32m----> 1\u001b[1;33m \u001b[0mtn\u001b[0m\u001b[1;33m,\u001b[0m \u001b[0mfp\u001b[0m\u001b[1;33m,\u001b[0m \u001b[0mfn\u001b[0m\u001b[1;33m,\u001b[0m \u001b[0mtp\u001b[0m \u001b[1;33m=\u001b[0m \u001b[0mconfusion_matrix\u001b[0m\u001b[1;33m(\u001b[0m\u001b[0my\u001b[0m\u001b[1;33m,\u001b[0m\u001b[0mpredictions\u001b[0m\u001b[1;33m)\u001b[0m\u001b[1;33m.\u001b[0m\u001b[0mravel\u001b[0m\u001b[1;33m(\u001b[0m\u001b[1;33m)\u001b[0m\u001b[1;33m\u001b[0m\u001b[1;33m\u001b[0m\u001b[0m\n\u001b[0m\u001b[0;32m      2\u001b[0m \u001b[1;33m\u001b[0m\u001b[0m\n\u001b[0;32m      3\u001b[0m \u001b[0mprint\u001b[0m\u001b[1;33m(\u001b[0m\u001b[0mtn\u001b[0m\u001b[1;33m,\u001b[0m \u001b[0mfp\u001b[0m\u001b[1;33m,\u001b[0m \u001b[0mfn\u001b[0m\u001b[1;33m,\u001b[0m \u001b[0mtp\u001b[0m\u001b[1;33m)\u001b[0m\u001b[1;33m\u001b[0m\u001b[1;33m\u001b[0m\u001b[0m\n",
      "\u001b[1;31mValueError\u001b[0m: not enough values to unpack (expected 4, got 1)"
     ]
    }
   ],
   "source": [
    "tn, fp, fn, tp = confusion_matrix(y,predictions).ravel()\n",
    "\n",
    "print(tn, fp, fn, tp)"
   ]
  },
  {
   "cell_type": "code",
   "execution_count": 78,
   "metadata": {},
   "outputs": [
    {
     "data": {
      "text/plain": [
       "5"
      ]
     },
     "execution_count": 78,
     "metadata": {},
     "output_type": "execute_result"
    }
   ],
   "source": [
    "len(X)"
   ]
  },
  {
   "cell_type": "code",
   "execution_count": null,
   "metadata": {},
   "outputs": [],
   "source": []
  }
 ],
 "metadata": {
  "kernelspec": {
   "display_name": "Python 3",
   "language": "python",
   "name": "python3"
  },
  "language_info": {
   "codemirror_mode": {
    "name": "ipython",
    "version": 3
   },
   "file_extension": ".py",
   "mimetype": "text/x-python",
   "name": "python",
   "nbconvert_exporter": "python",
   "pygments_lexer": "ipython3",
   "version": "3.7.3"
  }
 },
 "nbformat": 4,
 "nbformat_minor": 2
}
